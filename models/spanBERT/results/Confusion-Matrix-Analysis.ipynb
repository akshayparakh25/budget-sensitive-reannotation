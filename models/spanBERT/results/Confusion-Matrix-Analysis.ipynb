{
 "cells": [
  {
   "cell_type": "code",
   "execution_count": 1,
   "id": "3fb8ead4",
   "metadata": {},
   "outputs": [],
   "source": [
    "import pandas as pd\n",
    "import json\n",
    "import textstat as txt\n",
    "from itertools import groupby\n",
    "\n",
    "import numpy as np\n",
    "\n",
    "import matplotlib.pyplot as plt\n",
    "import seaborn as sns\n",
    "%matplotlib inline\n",
    "\n",
    "import pickle"
   ]
  },
  {
   "cell_type": "markdown",
   "id": "e63de68c",
   "metadata": {},
   "source": [
    "# Loading TACRED dataset"
   ]
  },
  {
   "cell_type": "code",
   "execution_count": 2,
   "id": "7919f105",
   "metadata": {},
   "outputs": [
    {
     "name": "stdout",
     "output_type": "stream",
     "text": [
      "Number of Training instances :: 68124\n",
      "Number of Dev instances :: 22631\n",
      "Number of Test instances :: 15509\n"
     ]
    }
   ],
   "source": [
    "train_data = json.load(open('./../../dataset/tacred/json/train.json'))\n",
    "print(\"Number of Training instances :: {}\".format(len(train_data)))\n",
    "\n",
    "dev_data = json.load(open('./../../dataset/tacred/json/dev.json'))\n",
    "print(\"Number of Dev instances :: {}\".format(len(dev_data)))\n",
    "\n",
    "test_data = json.load(open('./../../dataset/tacred/json/test.json'))\n",
    "print(\"Number of Test instances :: {}\".format(len(test_data)))"
   ]
  },
  {
   "cell_type": "code",
   "execution_count": 3,
   "id": "0daf8e24",
   "metadata": {},
   "outputs": [
    {
     "name": "stdout",
     "output_type": "stream",
     "text": [
      "68124\n",
      "22631\n",
      "15509\n"
     ]
    }
   ],
   "source": [
    "train_rel_freq = dict()\n",
    "for eg in train_data:\n",
    "    train_rel_freq[eg['relation']] = train_rel_freq.get(eg['relation'], 0) + 1\n",
    "print(sum(train_rel_freq.values()))\n",
    "\n",
    "dev_rel_freq = dict()\n",
    "for eg in dev_data:\n",
    "    dev_rel_freq[eg['relation']] = dev_rel_freq.get(eg['relation'], 0) + 1\n",
    "print(sum(dev_rel_freq.values()))\n",
    "\n",
    "test_rel_freq = dict()\n",
    "for eg in test_data:\n",
    "    test_rel_freq[eg['relation']] = test_rel_freq.get(eg['relation'], 0) + 1\n",
    "print(sum(test_rel_freq.values()))"
   ]
  },
  {
   "cell_type": "code",
   "execution_count": 4,
   "id": "1778cc12",
   "metadata": {},
   "outputs": [
    {
     "name": "stdout",
     "output_type": "stream",
     "text": [
      "org:founded_by 124\n",
      "no_relation 55112\n",
      "per:employee_of 1524\n",
      "org:alternate_names 808\n",
      "per:cities_of_residence 374\n",
      "per:children 211\n",
      "per:title 2443\n",
      "per:siblings 165\n",
      "per:religion 53\n",
      "per:age 390\n",
      "org:website 111\n",
      "per:stateorprovinces_of_residence 331\n",
      "org:member_of 122\n",
      "org:top_members/employees 1890\n",
      "per:countries_of_residence 445\n",
      "org:city_of_headquarters 382\n",
      "org:members 170\n",
      "org:country_of_headquarters 468\n",
      "per:spouse 258\n",
      "org:stateorprovince_of_headquarters 229\n",
      "org:number_of_employees/members 75\n",
      "org:parents 286\n",
      "org:subsidiaries 296\n",
      "per:origin 325\n",
      "org:political/religious_affiliation 105\n",
      "per:other_family 179\n",
      "per:stateorprovince_of_birth 38\n",
      "org:dissolved 23\n",
      "per:date_of_death 134\n",
      "org:shareholders 76\n",
      "per:alternate_names 104\n",
      "per:parents 152\n",
      "per:schools_attended 149\n",
      "per:cause_of_death 117\n",
      "per:city_of_death 81\n",
      "per:stateorprovince_of_death 49\n",
      "org:founded 91\n",
      "per:country_of_birth 28\n",
      "per:date_of_birth 63\n",
      "per:city_of_birth 65\n",
      "per:charges 72\n",
      "per:country_of_death 6\n"
     ]
    }
   ],
   "source": [
    "for key , val in train_rel_freq.items():\n",
    "    print(key, val)"
   ]
  },
  {
   "cell_type": "markdown",
   "id": "e0302147",
   "metadata": {},
   "source": [
    "# Heat-Map Analysis of Confusion Matrix"
   ]
  },
  {
   "cell_type": "markdown",
   "id": "e8aeb046",
   "metadata": {},
   "source": [
    "#### List of cmap values\n",
    "\n",
    "Accent, Accent_r, Blues, Blues_r, BrBG, BrBG_r, BuGn, BuGn_r, BuPu, BuPu_r, CMRmap, CMRmap_r, Dark2, Dark2_r, GnBu, GnBu_r, Greens, Greens_r, Greys, Greys_r, OrRd, OrRd_r, Oranges, Oranges_r, PRGn, PRGn_r, Paired, Paired_r, Pastel1, Pastel1_r, Pastel2, Pastel2_r, PiYG, PiYG_r, PuBu, PuBuGn, PuBuGn_r, PuBu_r, PuOr, PuOr_r, PuRd, PuRd_r, Purples, Purples_r, RdBu, RdBu_r, RdGy, RdGy_r, RdPu, RdPu_r, RdYlBu, RdYlBu_r, RdYlGn, RdYlGn_r, Reds, Reds_r, Set1, Set1_r, Set2, Set2_r, Set3, Set3_r, Spectral, Spectral_r, Wistia, Wistia_r, YlGn, YlGnBu, YlGnBu_r, YlGn_r, YlOrBr, YlOrBr_r, YlOrRd, YlOrRd_r, afmhot, afmhot_r, autumn, autumn_r, binary, binary_r, bone, bone_r, brg, brg_r, bwr, bwr_r, cividis, cividis_r, cool, cool_r, coolwarm, coolwarm_r, copper, copper_r, cubehelix, cubehelix_r, flag, flag_r, gist_earth, gist_earth_r, gist_gray, gist_gray_r, gist_heat, gist_heat_r, gist_ncar, gist_ncar_r, gist_rainbow, gist_rainbow_r, gist_stern, gist_stern_r, gist_yarg, gist_yarg_r, gnuplot, gnuplot2, gnuplot2_r, gnuplot_r, gray, gray_r, hot, hot_r, hsv, hsv_r, icefire, icefire_r, inferno, inferno_r, jet, jet_r, magma, magma_r, mako, mako_r, nipy_spectral, nipy_spectral_r, ocean, ocean_r, pink, pink_r, plasma, plasma_r, prism, prism_r, rainbow, rainbow_r, rocket, rocket_r, seismic, seismic_r, spring, spring_r, summer, summer_r, tab10, tab10_r, tab20, tab20_r, tab20b, tab20b_r, tab20c, tab20c_r, terrain, terrain_r, twilight, twilight_r, twilight_shifted, twilight_shifted_r, viridis, viridis_r, vlag, vlag_r, winter, winter_r"
   ]
  },
  {
   "cell_type": "markdown",
   "id": "f146e80e",
   "metadata": {},
   "source": [
    "## TACRED Analysis"
   ]
  },
  {
   "cell_type": "code",
   "execution_count": 5,
   "id": "e4fc30ee",
   "metadata": {},
   "outputs": [],
   "source": [
    "LABEL_TO_ID = {'no_relation': 0, 'per:title': 1, 'org:top_members/employees': 2, 'per:employee_of': 3, 'org:alternate_names': 4, 'org:country_of_headquarters': 5, 'per:countries_of_residence': 6, 'org:city_of_headquarters': 7, 'per:cities_of_residence': 8, 'per:age': 9, 'per:stateorprovinces_of_residence': 10, 'per:origin': 11, 'org:subsidiaries': 12, 'org:parents': 13, 'per:spouse': 14, 'org:stateorprovince_of_headquarters': 15, 'per:children': 16, 'per:other_family': 17, 'per:alternate_names': 18, 'org:members': 19, 'per:siblings': 20, 'per:schools_attended': 21, 'per:parents': 22, 'per:date_of_death': 23, 'org:member_of': 24, 'org:founded_by': 25, 'org:website': 26, 'per:cause_of_death': 27, 'org:political/religious_affiliation': 28, 'org:founded': 29, 'per:city_of_death': 30, 'org:shareholders': 31, 'org:number_of_employees/members': 32, 'per:date_of_birth': 33, 'per:city_of_birth': 34, 'per:charges': 35, 'per:stateorprovince_of_death': 36, 'per:religion': 37, 'per:stateorprovince_of_birth': 38, 'per:country_of_birth': 39, 'org:dissolved': 40, 'per:country_of_death': 41}\n",
    "ID_TO_LABEL = {val:key for key, val in LABEL_TO_ID.items()}"
   ]
  },
  {
   "cell_type": "markdown",
   "id": "6d842af1",
   "metadata": {},
   "source": [
    "### PARNN"
   ]
  },
  {
   "cell_type": "code",
   "execution_count": null,
   "id": "da0d3e24",
   "metadata": {},
   "outputs": [],
   "source": [
    "df = pd.DataFrame(pickle.load(open('./confusion-matrix/parnn', 'rb')))\n",
    "df = df.set_index(0)\n",
    "df.index.name = 'labels'\n",
    "df = df.rename(columns={i:ID_TO_LABEL[i-1] for i in range(1,43)})\n",
    "df = df.div(df.sum(axis=1), axis=0).round(3) * 100\n",
    "plt.figure(figsize=(25,15))\n",
    "sns.heatmap(df, cmap='BuPu', annot=True, fmt='g')\n",
    "plt.savefig('./images/confusion_matrix/parnn')"
   ]
  },
  {
   "cell_type": "markdown",
   "id": "b8517f7f",
   "metadata": {},
   "source": [
    "#### List of relations true-positives <= 50% and false-negative  > 20%\n",
    "- diagonal entries <= 50%\n",
    "- prediction: no_relation > 20%"
   ]
  },
  {
   "cell_type": "code",
   "execution_count": null,
   "id": "8f0b2438",
   "metadata": {},
   "outputs": [],
   "source": [
    "rels_fn = list()\n",
    "for i in range(1, len(LABEL_TO_ID)):\n",
    "    if (round(df.iloc[i,i], 2) <= 50) and (round(df.iloc[i,0], 2) > 20):\n",
    "        rels_fn.append(ID_TO_LABEL[i])\n",
    "\n",
    "parnn_fn = pd.DataFrame({'relations':rels_fn, \n",
    "              'train':[train_rel_freq[r] for r in rels_fn], \n",
    "              'dev':[dev_rel_freq[r] for r in rels_fn],\n",
    "              'test':[test_rel_freq[r] for r in rels_fn]})\n",
    "\n",
    "parnn_fn"
   ]
  },
  {
   "cell_type": "markdown",
   "id": "8abd47c2",
   "metadata": {},
   "source": [
    "#### List of relations true-positives <= 50% and false-positives  > 20%\n",
    "- diagonal entries <= 50%\n",
    "- prediction: some other relation > 20%"
   ]
  },
  {
   "cell_type": "code",
   "execution_count": null,
   "id": "6ee6b1d7",
   "metadata": {},
   "outputs": [],
   "source": [
    "rels_fp = list()\n",
    "for i in range(1, len(LABEL_TO_ID)):\n",
    "    if (round(df.iloc[i,i], 2) <= 50) and (((round(df.iloc[i,1:i], 2) > 20).any()) or ((round(df.iloc[i,i+1:], 2) > 20).any())):\n",
    "        rels_fp.append(ID_TO_LABEL[i])\n",
    "\n",
    "parnn = pd.DataFrame({'relations':rels_fp, \n",
    "              'train':[train_rel_freq[r] for r in rels_fp], \n",
    "              'dev':[dev_rel_freq[r] for r in rels_fp],\n",
    "              'test':[test_rel_freq[r] for r in rels_fp]})\n",
    "parnn"
   ]
  },
  {
   "cell_type": "markdown",
   "id": "b854fafe",
   "metadata": {},
   "source": [
    "#### Common relations for PARNN False-Negatives and False Positives"
   ]
  },
  {
   "cell_type": "code",
   "execution_count": null,
   "id": "9b244ed4",
   "metadata": {},
   "outputs": [],
   "source": [
    "set(rels_fn).intersection(set(rels_fp))"
   ]
  },
  {
   "cell_type": "markdown",
   "id": "b9681d63",
   "metadata": {},
   "source": [
    "### LSTM"
   ]
  },
  {
   "cell_type": "code",
   "execution_count": null,
   "id": "d80242e1",
   "metadata": {},
   "outputs": [],
   "source": [
    "df = pd.DataFrame(pickle.load(open('./confusion-matrix/lstm', 'rb')))\n",
    "df = df.set_index(0)\n",
    "df.index.name = 'labels'\n",
    "df = df.rename(columns={i:ID_TO_LABEL[i-1] for i in range(1,43)})\n",
    "df = df.div(df.sum(axis=1), axis=0).round(3) * 100\n",
    "plt.figure(figsize=(25,15))\n",
    "sns.heatmap(df, cmap='BuPu', annot=True, fmt='g')\n",
    "plt.savefig('./images/confusion_matrix/lstm')"
   ]
  },
  {
   "cell_type": "markdown",
   "id": "d3bc19a7",
   "metadata": {},
   "source": [
    "## BiLSTM"
   ]
  },
  {
   "cell_type": "code",
   "execution_count": null,
   "id": "94fe066f",
   "metadata": {},
   "outputs": [],
   "source": [
    "df = pd.DataFrame(pickle.load(open('./confusion-matrix/bilstm', 'rb')))\n",
    "df = df.set_index(0)\n",
    "df.index.name = 'labels'\n",
    "df = df.rename(columns={i:ID_TO_LABEL[i-1] for i in range(1,43)})\n",
    "df = df.div(df.sum(axis=1), axis=0).round(3) * 100\n",
    "plt.figure(figsize=(25,15))\n",
    "sns.heatmap(df, cmap='BuPu', annot=True, fmt='g')\n",
    "plt.savefig('./images/confusion_matrix/bilstm')"
   ]
  },
  {
   "cell_type": "markdown",
   "id": "d47f1434",
   "metadata": {},
   "source": [
    "### CGCN"
   ]
  },
  {
   "cell_type": "code",
   "execution_count": null,
   "id": "4e567e14",
   "metadata": {},
   "outputs": [],
   "source": [
    "df = pd.DataFrame(pickle.load(open('./confusion-matrix/cgcn', 'rb')))\n",
    "df = df.set_index(0)\n",
    "df.index.name = 'labels'\n",
    "df = df.rename(columns={i:ID_TO_LABEL[i-1] for i in range(1,43)})\n",
    "df = df.div(df.sum(axis=1), axis=0).round(3) * 100\n",
    "plt.figure(figsize=(25,15))\n",
    "sns.heatmap(df, cmap='BuPu', annot=True, fmt='g')\n",
    "plt.savefig('./images/confusion_matrix/cgcn')"
   ]
  },
  {
   "cell_type": "markdown",
   "id": "2c6e0874",
   "metadata": {},
   "source": [
    "#### List of relations true-positives <= 50% and false-negative  > 20%\n",
    "- diagonal entries <= 50%\n",
    "- prediction: no_relation > 20%"
   ]
  },
  {
   "cell_type": "code",
   "execution_count": null,
   "id": "0b49b44b",
   "metadata": {},
   "outputs": [],
   "source": [
    "rels_fn = list()\n",
    "for i in range(1, len(LABEL_TO_ID)):\n",
    "    if (round(df.iloc[i,i], 2) <= 50) and (round(df.iloc[i,0], 2) > 20):\n",
    "        rels_fn.append(ID_TO_LABEL[i])\n",
    "\n",
    "cgcn_fn = pd.DataFrame({'relations':rels_fn, \n",
    "              'train':[train_rel_freq[r] for r in rels_fn], \n",
    "              'dev':[dev_rel_freq[r] for r in rels_fn],\n",
    "              'test':[test_rel_freq[r] for r in rels_fn]})\n",
    "\n",
    "cgcn_fn"
   ]
  },
  {
   "cell_type": "markdown",
   "id": "4787cf19",
   "metadata": {},
   "source": [
    "#### List of relations true-positives <= 50% and false-positives  > 20%\n",
    "- diagonal entries <= 50%\n",
    "- prediction: some other relation > 20%"
   ]
  },
  {
   "cell_type": "code",
   "execution_count": null,
   "id": "3982db76",
   "metadata": {},
   "outputs": [],
   "source": [
    "rels_fp = list()\n",
    "for i in range(1, len(LABEL_TO_ID)):\n",
    "    if (round(df.iloc[i,i], 2) <= 50) and (((round(df.iloc[i,1:i], 2) > 20).any()) or ((round(df.iloc[i,i+1:], 2) > 20).any())):\n",
    "        rels_fp.append(ID_TO_LABEL[i])\n",
    "\n",
    "cgcn = pd.DataFrame({'relations':rels_fp, \n",
    "              'train':[train_rel_freq[r] for r in rels_fp], \n",
    "              'dev':[dev_rel_freq[r] for r in rels_fp],\n",
    "              'test':[test_rel_freq[r] for r in rels_fp]})\n",
    "\n",
    "cgcn"
   ]
  },
  {
   "cell_type": "markdown",
   "id": "8bcddcdc",
   "metadata": {},
   "source": [
    "#### Common relations for CGCN False-Negatives and False-Positives"
   ]
  },
  {
   "cell_type": "code",
   "execution_count": null,
   "id": "2952a7de",
   "metadata": {},
   "outputs": [],
   "source": [
    "set(rels_fn).intersection(set(rels_fp))"
   ]
  },
  {
   "cell_type": "markdown",
   "id": "add1ad02",
   "metadata": {},
   "source": [
    "### GCN"
   ]
  },
  {
   "cell_type": "code",
   "execution_count": null,
   "id": "59e22ef2",
   "metadata": {},
   "outputs": [],
   "source": [
    "df = pd.DataFrame(pickle.load(open('./confusion-matrix/gcn', 'rb')))\n",
    "df = df.set_index(0)\n",
    "df.index.name = 'labels'\n",
    "df = df.rename(columns={i:ID_TO_LABEL[i-1] for i in range(1,43)})\n",
    "df = df.div(df.sum(axis=1), axis=0).round(3) * 100\n",
    "plt.figure(figsize=(25,15))\n",
    "sns.heatmap(df, cmap='BuPu', annot=True, fmt='g')\n",
    "plt.savefig('./images/confusion_matrix/gcn')"
   ]
  },
  {
   "cell_type": "markdown",
   "id": "ec63bdcc",
   "metadata": {},
   "source": [
    "### CNN"
   ]
  },
  {
   "cell_type": "code",
   "execution_count": null,
   "id": "e855fa29",
   "metadata": {},
   "outputs": [],
   "source": [
    "df = pd.DataFrame(pickle.load(open('./confusion-matrix/cnn', 'rb')))\n",
    "df = df.set_index(0)\n",
    "df.index.name = 'labels'\n",
    "df = df.rename(columns={i:ID_TO_LABEL[i-1] for i in range(1,43)})\n",
    "df = df.div(df.sum(axis=1), axis=0).round(3) * 100\n",
    "plt.figure(figsize=(25,15))\n",
    "sns.heatmap(df, cmap='BuPu', annot=True, fmt='g')\n",
    "plt.savefig('./images/confusion_matrix/cnn')"
   ]
  },
  {
   "cell_type": "markdown",
   "id": "a7d67852",
   "metadata": {},
   "source": [
    "### Common relations between PARNN and CGCN"
   ]
  },
  {
   "cell_type": "markdown",
   "id": "7ff2a91e",
   "metadata": {},
   "source": [
    "#### False Negatives"
   ]
  },
  {
   "cell_type": "code",
   "execution_count": null,
   "id": "c70667c9",
   "metadata": {},
   "outputs": [],
   "source": [
    "parnn_fn.merge(cgcn_fn)"
   ]
  },
  {
   "cell_type": "markdown",
   "id": "67f93849",
   "metadata": {},
   "source": [
    "#### False Positives"
   ]
  },
  {
   "cell_type": "code",
   "execution_count": null,
   "id": "e24ba209",
   "metadata": {},
   "outputs": [],
   "source": [
    "parnn.merge(cgcn)"
   ]
  },
  {
   "cell_type": "markdown",
   "id": "25cb3284",
   "metadata": {},
   "source": [
    "## TACRED excluding no_relation"
   ]
  },
  {
   "cell_type": "markdown",
   "id": "29cfd26a",
   "metadata": {},
   "source": [
    "### PARNN"
   ]
  },
  {
   "cell_type": "code",
   "execution_count": null,
   "id": "9f89ac37",
   "metadata": {},
   "outputs": [],
   "source": [
    "df = pd.DataFrame(pickle.load(open('./confusion-matrix/parnn-all_positive', 'rb')))\n",
    "df = df.loc[1:,:]\n",
    "df = df.set_index(0)\n",
    "df.index.name = 'labels'\n",
    "df = df.loc[:,2:]\n",
    "df = df.rename(columns={i:ID_TO_LABEL[i-1] for i in range(1,43)})\n",
    "df = df.div(df.sum(axis=1), axis=0).round(3) * 100\n",
    "plt.figure(figsize=(25,15))\n",
    "sns.heatmap(df, cmap='BuPu', annot=True, fmt='g')\n",
    "plt.savefig('./images/confusion_matrix/all-positive-parnn')"
   ]
  },
  {
   "cell_type": "markdown",
   "id": "5e8c2d18",
   "metadata": {},
   "source": [
    "#### List of relations true-positives <= 50% and false-positives  > 20%\n",
    "- diagonal entries <= 50%\n",
    "- prediction: some other relation > 20%"
   ]
  },
  {
   "cell_type": "code",
   "execution_count": null,
   "id": "4cae1e65",
   "metadata": {},
   "outputs": [],
   "source": [
    "rels_fp = list()\n",
    "for i in range(1, len(LABEL_TO_ID)-1):\n",
    "    if (round(df.iloc[i,i], 2) <= 50) and (((round(df.iloc[i,1:i], 2) > 20).any()) or ((round(df.iloc[i,i+1:], 2) > 20).any())):\n",
    "        rels_fp.append(ID_TO_LABEL[i+1])\n",
    "\n",
    "parnn_allpos = pd.DataFrame({'relations':rels_fp, \n",
    "                             'train':[train_rel_freq[r] for r in rels_fp], \n",
    "                             'dev':[dev_rel_freq[r] for r in rels_fp],\n",
    "                             'test':[test_rel_freq[r] for r in rels_fp]})\n",
    "parnn_allpos"
   ]
  },
  {
   "cell_type": "markdown",
   "id": "4f580267",
   "metadata": {},
   "source": [
    "#### Intersection with PARNN"
   ]
  },
  {
   "cell_type": "code",
   "execution_count": null,
   "id": "984be3fb",
   "metadata": {},
   "outputs": [],
   "source": [
    "parnn.merge(parnn_allpos)"
   ]
  },
  {
   "cell_type": "markdown",
   "id": "dfb7843b",
   "metadata": {},
   "source": [
    "### CGCN"
   ]
  },
  {
   "cell_type": "code",
   "execution_count": null,
   "id": "e5d5bc3e",
   "metadata": {},
   "outputs": [],
   "source": [
    "df = pd.DataFrame(pickle.load(open('./confusion-matrix/cgcn-all_positive', 'rb')))\n",
    "df = df.loc[1:,:]\n",
    "df = df.set_index(0)\n",
    "df.index.name = 'labels'\n",
    "df = df.loc[:,2:]\n",
    "df = df.rename(columns={i:ID_TO_LABEL[i-1] for i in range(1,43)})\n",
    "df = df.div(df.sum(axis=1), axis=0).round(3) * 100\n",
    "plt.figure(figsize=(25,15))\n",
    "sns.heatmap(df, cmap='BuPu', annot=True, fmt='g')\n",
    "plt.savefig('./images/confusion_matrix/all-positive-cgcn')"
   ]
  },
  {
   "cell_type": "markdown",
   "id": "0886949d",
   "metadata": {},
   "source": [
    "#### List of relations true-positives <= 50% and false-positives  > 20%\n",
    "- diagonal entries <= 50%\n",
    "- prediction: some other relation > 20%"
   ]
  },
  {
   "cell_type": "code",
   "execution_count": null,
   "id": "dd2f474d",
   "metadata": {},
   "outputs": [],
   "source": [
    "rels_fp = list()\n",
    "for i in range(1, len(LABEL_TO_ID)-1):\n",
    "    if (round(df.iloc[i,i], 2) <= 50) and (((round(df.iloc[i,1:i], 2) > 20).any()) or ((round(df.iloc[i,i+1:], 2) > 20).any())):\n",
    "        rels_fp.append(ID_TO_LABEL[i+1])\n",
    "\n",
    "cgcn_allpos = pd.DataFrame({'relations':rels_fp, \n",
    "                            'train':[train_rel_freq[r] for r in rels_fp], \n",
    "                            'dev':[dev_rel_freq[r] for r in rels_fp],\n",
    "                            'test':[test_rel_freq[r] for r in rels_fp]})\n",
    "\n",
    "cgcn_allpos"
   ]
  },
  {
   "cell_type": "markdown",
   "id": "067595bb",
   "metadata": {},
   "source": [
    "#### Intersection with CGCN"
   ]
  },
  {
   "cell_type": "code",
   "execution_count": null,
   "id": "b9b40784",
   "metadata": {},
   "outputs": [],
   "source": [
    "cgcn.merge(cgcn_allpos)"
   ]
  },
  {
   "cell_type": "markdown",
   "id": "727e99b1",
   "metadata": {},
   "source": [
    "## TACREV Analysis"
   ]
  },
  {
   "cell_type": "markdown",
   "id": "a92d85d8",
   "metadata": {},
   "source": [
    "## PARNN"
   ]
  },
  {
   "cell_type": "code",
   "execution_count": null,
   "id": "8ec885bf",
   "metadata": {},
   "outputs": [],
   "source": [
    "df = pd.DataFrame(pickle.load(open('./confusion-matrix/tacrev-parnn', 'rb')))\n",
    "df = df.set_index(0)\n",
    "df.index.name = 'labels'\n",
    "df = df.rename(columns={i:ID_TO_LABEL[i-1] for i in range(1,43)})\n",
    "df = df.div(df.sum(axis=1), axis=0).round(3) * 100\n",
    "# Number of test instances in test set for 'per:country_of_birth' = 0\n",
    "df.loc['per:country_of_birth'] = 0\n",
    "plt.figure(figsize=(25,15))\n",
    "sns.heatmap(df, cmap='BuPu', annot=True, fmt='g')\n",
    "plt.savefig('./images/confusion_matrix/tacrev-parnn')"
   ]
  },
  {
   "cell_type": "markdown",
   "id": "673b7953",
   "metadata": {},
   "source": [
    "### CGCN"
   ]
  },
  {
   "cell_type": "code",
   "execution_count": null,
   "id": "0d53789a",
   "metadata": {},
   "outputs": [],
   "source": [
    "df = pd.DataFrame(pickle.load(open('./confusion-matrix/tacrev-cgcn', 'rb')))\n",
    "df = df.set_index(0)\n",
    "df.index.name = 'labels'\n",
    "df = df.rename(columns={i:ID_TO_LABEL[i-1] for i in range(1,43)})\n",
    "df = df.div(df.sum(axis=1), axis=0).round(3) * 100\n",
    "# Number of test instances in test set for 'per:country_of_birth' = 0\n",
    "df.loc['per:country_of_birth'] = 0\n",
    "plt.figure(figsize=(25,15))\n",
    "sns.heatmap(df, cmap='BuPu', annot=True, fmt='g')\n",
    "plt.savefig('./images/confusion_matrix/tacrev-cgcn')"
   ]
  },
  {
   "cell_type": "markdown",
   "id": "5fa6aa67",
   "metadata": {},
   "source": [
    "## Re-TACRED Analysis"
   ]
  },
  {
   "cell_type": "code",
   "execution_count": null,
   "id": "e5800541",
   "metadata": {},
   "outputs": [],
   "source": [
    "RE_LABEL_TO_ID = {'no_relation': 0, 'org:members': 1, 'per:siblings': 2, 'per:spouse': 3, 'org:country_of_branch': 4, 'per:country_of_death': 5, 'per:parents': 6, 'per:stateorprovinces_of_residence': 7, 'org:top_members/employees': 8, 'org:dissolved': 9, 'org:number_of_employees/members': 10, 'per:stateorprovince_of_death': 11, 'per:origin': 12, 'per:children': 13, 'org:political/religious_affiliation': 14, 'per:city_of_birth': 15, 'per:title': 16, 'org:shareholders': 17, 'per:employee_of': 18, 'org:member_of': 19, 'org:founded_by': 20, 'per:countries_of_residence': 21, 'per:other_family': 22, 'per:religion': 23, 'per:identity': 24, 'per:date_of_birth': 25, 'org:city_of_branch': 26, 'org:alternate_names': 27, 'org:website': 28, 'per:cause_of_death': 29, 'org:stateorprovince_of_branch': 30, 'per:schools_attended': 31, 'per:country_of_birth': 32, 'per:date_of_death': 33, 'per:city_of_death': 34, 'org:founded': 35, 'per:cities_of_residence': 36, 'per:age': 37, 'per:charges': 38, 'per:stateorprovince_of_birth': 39}\n",
    "RE_ID_TO_LABEL = {val:key for key, val in RE_LABEL_TO_ID.items()}"
   ]
  },
  {
   "cell_type": "markdown",
   "id": "c084ac2e",
   "metadata": {},
   "source": [
    "### PARNN"
   ]
  },
  {
   "cell_type": "code",
   "execution_count": null,
   "id": "b6c2948c",
   "metadata": {},
   "outputs": [],
   "source": [
    "df = pd.DataFrame(pickle.load(open('./confusion-matrix-156/retacred-parnn', 'rb')))\n",
    "df = df.set_index(0)\n",
    "df.index.name = 'labels'\n",
    "df.loc['per:country_of_birth']\n",
    "df = df.rename(columns={i:RE_ID_TO_LABEL[i-1] for i in range(1,41)})\n",
    "df = df.div(df.sum(axis=1), axis=0).round(3) * 100\n",
    "# Number of test instances in test set for 'per:country_of_birth' = 0\n",
    "df.loc['per:country_of_birth'] = 0\n",
    "plt.figure(figsize=(25,15))\n",
    "sns.heatmap(df, cmap='BuPu', annot=True, fmt='g')\n",
    "plt.savefig('./images/confusion_matrix/retacred-parnn')"
   ]
  },
  {
   "cell_type": "markdown",
   "id": "6267a8ec",
   "metadata": {},
   "source": [
    "### CGCN"
   ]
  },
  {
   "cell_type": "code",
   "execution_count": null,
   "id": "2e3833a5",
   "metadata": {},
   "outputs": [],
   "source": [
    "df = pd.DataFrame(pickle.load(open('./confusion-matrix-156/retacred-cgcn', 'rb')))\n",
    "df = df.set_index(0)\n",
    "df.index.name = 'labels'\n",
    "df = df.rename(columns={i:RE_ID_TO_LABEL[i-1] for i in range(1,41)})\n",
    "df = df.div(df.sum(axis=1), axis=0).round(3) * 100\n",
    "# Number of test instances in test set for 'per:country_of_birth' = 0\n",
    "df.loc['per:country_of_birth'] = 0\n",
    "plt.figure(figsize=(25,15))\n",
    "sns.heatmap(df, cmap='BuPu', annot=True, fmt='g')\n",
    "plt.savefig('./images/confusion_matrix/retacred-cgcn')"
   ]
  },
  {
   "cell_type": "markdown",
   "id": "d0695171",
   "metadata": {},
   "source": [
    "# Re-Annotation Analysis"
   ]
  },
  {
   "cell_type": "markdown",
   "id": "62a2c991",
   "metadata": {},
   "source": [
    "## PARNN"
   ]
  },
  {
   "cell_type": "code",
   "execution_count": null,
   "id": "57ed2202",
   "metadata": {},
   "outputs": [],
   "source": [
    "df = pd.DataFrame(pickle.load(open('./confusion-matrix/parnn-reann-cos', 'rb')))\n",
    "df = df.set_index(0)\n",
    "df.index.name = 'labels'\n",
    "df = df.rename(columns={i:ID_TO_LABEL[i-1] for i in range(1,43)})\n",
    "df = df.div(df.sum(axis=1), axis=0).round(3) * 100\n",
    "plt.figure(figsize=(25,15))\n",
    "sns.heatmap(df, cmap='BuPu', annot=True, fmt='g')\n",
    "plt.savefig('./images/confusion_matrix/parnn-reann')"
   ]
  },
  {
   "cell_type": "code",
   "execution_count": null,
   "id": "1c8f124c",
   "metadata": {},
   "outputs": [],
   "source": [
    "parnn = pd.DataFrame(pickle.load(open('./confusion-matrix/parnn', 'rb')))\n",
    "parnn = parnn.set_index(0)\n",
    "parnn.index.name = 'labels'\n",
    "parnn = parnn.rename(columns={i:ID_TO_LABEL[i-1] for i in range(1,43)})\n",
    "parnn = parnn.div(parnn.sum(axis=1), axis=0).round(3) * 100\n",
    "\n",
    "parnn_re = pd.DataFrame(pickle.load(open('./confusion-matrix/parnn-reann-cos', 'rb')))\n",
    "parnn_re = parnn_re.set_index(0)\n",
    "parnn_re.index.name = 'labels'\n",
    "parnn_re = parnn_re.rename(columns={i:ID_TO_LABEL[i-1] for i in range(1,43)})\n",
    "parnn_re = parnn_re.div(parnn_re.sum(axis=1), axis=0).round(3) * 100\n",
    "\n",
    "df = parnn_re - parnn"
   ]
  },
  {
   "cell_type": "code",
   "execution_count": null,
   "id": "cb02a0fc",
   "metadata": {},
   "outputs": [],
   "source": [
    "import pickle\n",
    "reann_ids = pickle.load(open('./reannotation-ids/Preplace_cosine.pkl', 'rb'))\n",
    "print(len(reann_ids))\n",
    "re_train_rel_freq = dict()\n",
    "for eg in train_data:\n",
    "    sid = eg['id']\n",
    "    rel = eg['relation']\n",
    "    if sid in reann_ids:\n",
    "        rel = reann_ids[sid]        \n",
    "    re_train_rel_freq[rel] = re_train_rel_freq.get(rel, 0) + 1\n",
    "print(sum(train_rel_freq.values()))\n",
    "\n",
    "X = [rel.strip() for rel in list(parnn.index)]\n",
    "Y = [train_rel_freq[rel] for rel in X]\n",
    "Y[0] = 0\n",
    "Y_re = [re_train_rel_freq[rel] for rel in X]\n",
    "Y_re[0] = 0\n",
    "\n",
    "freq = pd.DataFrame({'labels':X, 'original':Y, 'reann':Y_re})"
   ]
  },
  {
   "cell_type": "code",
   "execution_count": null,
   "id": "55a086ca",
   "metadata": {},
   "outputs": [],
   "source": [
    "def show_values_on_bars(axs):\n",
    "    def _show_on_single_plot(ax):        \n",
    "        for p in ax.patches:\n",
    "            _x = p.get_x() + p.get_width() / 2\n",
    "            _y = p.get_y() + p.get_height()\n",
    "            value = '{}'.format(int(p.get_height()))\n",
    "            ax.text(_x, _y, value, ha=\"center\") \n",
    "\n",
    "    if isinstance(axs, np.ndarray):\n",
    "        for idx, ax in np.ndenumerate(axs):\n",
    "            _show_on_single_plot(ax)\n",
    "    else:\n",
    "        _show_on_single_plot(axs)\n"
   ]
  },
  {
   "cell_type": "code",
   "execution_count": null,
   "id": "f4bb5348",
   "metadata": {},
   "outputs": [],
   "source": [
    "fig, (ax1, ax2) = plt.subplots(2,1,figsize=(25,30), gridspec_kw={'height_ratios': [2, 1]})\n",
    "ax1 = plt.subplot(211)\n",
    "ax1 = sns.heatmap(df, cmap='BrBG', annot=True, fmt='g')\n",
    "# plt.savefig('./images/confusion_matrix/parnn-reann-diff')\n",
    "\n",
    "# f, ax = plt.subplots(figsize=(15, 6))\n",
    "ax2 = plt.subplot(212)\n",
    "ax2 = sns.set_color_codes(\"pastel\")\n",
    "ax2 = sns.barplot(x='labels', y='reann', data=freq, label=\"Reannotated\", color=\"b\")\n",
    "ax2 = sns.set_color_codes(\"muted\")\n",
    "ax2 = sns.barplot(x='labels', y='original', data=freq, label=\"Original\", color=\"b\")\n",
    "show_values_on_bars(ax2)\n",
    "ax2 = sns.despine(left=True, bottom=True)\n",
    "ax2 = plt.xticks(rotation=90, size=10)\n",
    "ax2 = plt.legend(ncol=2, loc=\"upper right\", frameon=True)\n",
    "\n",
    "\n",
    "plt.savefig('./images/confusion_matrix/parnn-reann-diff')"
   ]
  },
  {
   "cell_type": "markdown",
   "id": "ba005a21",
   "metadata": {},
   "source": [
    "## CGCN"
   ]
  },
  {
   "cell_type": "code",
   "execution_count": null,
   "id": "0ce5bc33",
   "metadata": {},
   "outputs": [],
   "source": [
    "df = pd.DataFrame(pickle.load(open('./confusion-matrix/cgcn-reann-knn', 'rb')))\n",
    "df = df.set_index(0)\n",
    "df.index.name = 'labels'\n",
    "df = df.rename(columns={i:ID_TO_LABEL[i-1] for i in range(1,43)})\n",
    "df = df.div(df.sum(axis=1), axis=0).round(3) * 100\n",
    "plt.figure(figsize=(25,15))\n",
    "sns.heatmap(df, cmap='BuPu', annot=True, fmt='g')\n",
    "plt.savefig('./images/confusion_matrix/cgcn-reann')"
   ]
  },
  {
   "cell_type": "code",
   "execution_count": null,
   "id": "0bc4b738",
   "metadata": {},
   "outputs": [],
   "source": [
    "cgcn = pd.DataFrame(pickle.load(open('./confusion-matrix/cgcn', 'rb')))\n",
    "cgcn = cgcn.set_index(0)\n",
    "cgcn.index.name = 'labels'\n",
    "cgcn = cgcn.rename(columns={i:ID_TO_LABEL[i-1] for i in range(1,43)})\n",
    "cgcn = cgcn.div(cgcn.sum(axis=1), axis=0).round(3) * 100\n",
    "\n",
    "cgcn_re = pd.DataFrame(pickle.load(open('./confusion-matrix/cgcn-reann-knn', 'rb')))\n",
    "cgcn_re = cgcn_re.set_index(0)\n",
    "cgcn_re.index.name = 'labels'\n",
    "cgcn_re = cgcn_re.rename(columns={i:ID_TO_LABEL[i-1] for i in range(1,43)})\n",
    "cgcn_re = cgcn_re.div(cgcn_re.sum(axis=1), axis=0).round(3) * 100\n",
    "\n",
    "df = cgcn_re - cgcn"
   ]
  },
  {
   "cell_type": "code",
   "execution_count": null,
   "id": "a644e509",
   "metadata": {},
   "outputs": [],
   "source": [
    "import pickle\n",
    "reann_ids = pickle.load(open('./reannotation-ids/Creplace_knn.pkl', 'rb'))\n",
    "re_train_rel_freq = dict()\n",
    "for eg in train_data:\n",
    "    sid = eg['id']\n",
    "    rel = eg['relation']\n",
    "    if sid in reann_ids:\n",
    "        rel = reann_ids[sid]\n",
    "    re_train_rel_freq[rel] = re_train_rel_freq.get(rel, 0) + 1\n",
    "print(sum(train_rel_freq.values()))\n",
    "\n",
    "X = [rel.strip() for rel in list(cgcn.index)]\n",
    "Y = [train_rel_freq[rel] for rel in X]\n",
    "Y[0] = 0\n",
    "Y_re = [re_train_rel_freq[rel] for rel in X]\n",
    "Y_re[0] = 0\n",
    "\n",
    "freq = pd.DataFrame({'labels':X, 'original':Y, 'reann':Y_re})"
   ]
  },
  {
   "cell_type": "code",
   "execution_count": null,
   "id": "06eb9bbd",
   "metadata": {},
   "outputs": [],
   "source": [
    "fig, (ax1, ax2) = plt.subplots(2,1,figsize=(25,30), gridspec_kw={'height_ratios': [2, 1]})\n",
    "ax1 = plt.subplot(211)\n",
    "ax1 = sns.heatmap(df, cmap='BrBG', annot=True, fmt='g')\n",
    "# plt.savefig('./images/confusion_matrix/parnn-reann-diff')\n",
    "\n",
    "# f, ax = plt.subplots(figsize=(15, 6))\n",
    "ax2 = plt.subplot(212)\n",
    "ax2 = sns.set_color_codes(\"pastel\")\n",
    "ax2 = sns.barplot(x='labels', y='reann', data=freq, label=\"Reannotated\", color=\"b\")\n",
    "ax2 = sns.set_color_codes(\"muted\")\n",
    "ax2 = sns.barplot(x='labels', y='original', data=freq, label=\"Original\", color=\"b\")\n",
    "show_values_on_bars(ax2)\n",
    "ax2 = sns.despine(left=True, bottom=True)\n",
    "ax2 = plt.xticks(rotation=90, size=10)\n",
    "ax2 = plt.legend(ncol=2, loc=\"upper right\", frameon=True)\n",
    "\n",
    "plt.savefig('./images/confusion_matrix/cgcn-reann-diff')"
   ]
  },
  {
   "cell_type": "markdown",
   "id": "78a03f78",
   "metadata": {},
   "source": [
    "# Relabel"
   ]
  },
  {
   "cell_type": "markdown",
   "id": "3ea4310e",
   "metadata": {},
   "source": [
    "## TACRED"
   ]
  },
  {
   "cell_type": "code",
   "execution_count": null,
   "id": "c9cbd304",
   "metadata": {},
   "outputs": [],
   "source": [
    "RELABELED_LABEL_TO_ID = {'no_relation': 0, 'per:title': 1, 'org:top_members/employees': 2, 'per:employee_of': 3, 'org:alternate_names': 4, \n",
    "            'org:city_of_headquarters': 5, 'per:locations_of_residence': 6, 'per:age': 7, 'per:origin': 8, 'org:subsidiaries': 9,\n",
    "            'org:parents': 10, 'per:other_family': 11, 'per:alternate_names': 12, 'org:members': 13, 'per:schools_attended': 14, \n",
    "            'per:date_of_death': 15, 'org:member_of': 16, 'org:founded_by': 17, 'org:website': 18, 'per:cause_of_death': 19, \n",
    "            'org:political/religious_affiliation': 20, 'org:founded': 21, 'per:location_of_death': 22, 'org:shareholders': 23, \n",
    "            'org:number_of_employees/members': 24, 'per:date_of_birth': 25, 'per:location_of_birth': 26, 'per:charges': 27, \n",
    "            'per:religion': 28, 'org:dissolved': 29, 'per:children': 30, 'per:parents' : 31, 'per:siblings' : 32, 'per:spouse' : 33,\n",
    "            'org:country_of_headquarters': 34, 'org:stateorprovince_of_headquarters': 35}\n",
    "RELABELED_ID_TO_LABEL = {val:key for key, val in RELABELED_LABEL_TO_ID.items()}"
   ]
  },
  {
   "cell_type": "markdown",
   "id": "231cb75b",
   "metadata": {},
   "source": [
    "### PARNN"
   ]
  },
  {
   "cell_type": "code",
   "execution_count": null,
   "id": "4150e522",
   "metadata": {},
   "outputs": [],
   "source": [
    "df = pd.DataFrame(pickle.load(open('./confusion-matrix/parnn-relabel', 'rb')))\n",
    "df = df.set_index(0)\n",
    "df.index.name = 'labels'\n",
    "df = df.rename(columns={i:RELABELED_ID_TO_LABEL[i-1] for i in range(1,36)})\n",
    "df = df.div(df.sum(axis=1), axis=0).round(3) * 100\n",
    "plt.figure(figsize=(25,15))\n",
    "sns.heatmap(df, cmap='BuPu', annot=True, fmt='g')\n",
    "plt.savefig('./images/confusion_matrix/parnn-relabel')"
   ]
  },
  {
   "cell_type": "markdown",
   "id": "328289bb",
   "metadata": {},
   "source": [
    "### CGCN"
   ]
  },
  {
   "cell_type": "code",
   "execution_count": null,
   "id": "403f133c",
   "metadata": {},
   "outputs": [],
   "source": [
    "df = pd.DataFrame(pickle.load(open('./confusion-matrix/cgcn-relabel', 'rb')))\n",
    "df = df.set_index(0)\n",
    "df.index.name = 'labels'\n",
    "df = df.rename(columns={i:RELABELED_ID_TO_LABEL[i-1] for i in range(1,36)})\n",
    "df = df.div(df.sum(axis=1), axis=0).round(3) * 100\n",
    "plt.figure(figsize=(25,15))\n",
    "sns.heatmap(df, cmap='BuPu', annot=True, fmt='g')\n",
    "plt.savefig('./images/confusion_matrix/cgcn-relabel')"
   ]
  },
  {
   "cell_type": "markdown",
   "id": "705f05cb",
   "metadata": {},
   "source": [
    "## ReTACRED"
   ]
  },
  {
   "cell_type": "code",
   "execution_count": null,
   "id": "8fb8dd66",
   "metadata": {},
   "outputs": [],
   "source": [
    "RE_RELABELED_LABEL_TO_ID = {'no_relation': 0, 'org:members': 1, 'per:siblings': 2, 'per:spouse': 3, 'org:country_of_branch': 4, \n",
    "\t\t\t\t\t\t 'per:location_of_death': 5, 'per:parents': 6, 'per:locations_of_residence': 7, 'org:top_members/employees': 8,\n",
    "\t\t\t\t\t\t 'org:dissolved': 9, 'org:number_of_employees/members': 10, 'per:origin': 11, 'per:children': 12, \n",
    "\t\t\t\t\t\t 'org:political/religious_affiliation': 13, 'per:location_of_birth': 14, 'per:title': 15, 'org:shareholders': 16, \n",
    "\t\t\t\t\t\t 'per:employee_of': 17, 'org:member_of': 18, 'org:founded_by': 19, 'per:other_family': 20, 'per:religion': 21, \n",
    "\t\t\t\t\t\t 'per:identity': 22, 'per:date_of_birth': 23, 'org:city_of_branch': 24, 'org:alternate_names': 25, 'org:website': 26, \n",
    "\t\t\t\t\t\t 'per:cause_of_death': 27, 'org:stateorprovince_of_branch': 28, 'per:schools_attended': 29, 'per:date_of_death': 30, \n",
    "\t\t\t\t\t\t 'org:founded': 31, 'per:age': 32, 'per:charges': 33}\n",
    "\n",
    "RE_RELABELED_ID_TO_LABEL = {val:key for key, val in RELABELED_LABEL_TO_ID.items()}"
   ]
  },
  {
   "cell_type": "markdown",
   "id": "dfdd1c48",
   "metadata": {},
   "source": [
    "### PARNN"
   ]
  },
  {
   "cell_type": "code",
   "execution_count": null,
   "id": "2a03178f",
   "metadata": {},
   "outputs": [],
   "source": [
    "df = pd.DataFrame(pickle.load(open('./confusion-matrix/retacred-parnn-relabel.pkl', 'rb')))\n",
    "df = df.set_index(0)\n",
    "df.index.name = 'labels'\n",
    "df = df.rename(columns={i:RE_RELABELED_ID_TO_LABEL[i-1] for i in range(1,36)})\n",
    "df = df.div(df.sum(axis=1), axis=0).round(3) * 100\n",
    "plt.figure(figsize=(25,15))\n",
    "sns.heatmap(df, cmap='BuPu', annot=True, fmt='g')\n",
    "plt.savefig('./images/confusion_matrix/retacred-parnn-relabel')"
   ]
  },
  {
   "cell_type": "markdown",
   "id": "48b79e28",
   "metadata": {},
   "source": [
    "### CGCN"
   ]
  },
  {
   "cell_type": "code",
   "execution_count": null,
   "id": "e5d5300a",
   "metadata": {},
   "outputs": [],
   "source": [
    "df = pd.DataFrame(pickle.load(open('./confusion-matrix/retacred-cgcn-relabel.pkl', 'rb')))\n",
    "df = df.set_index(0)\n",
    "df.index.name = 'labels'\n",
    "df = df.rename(columns={i:RE_RELABELED_ID_TO_LABEL[i-1] for i in range(1,36)})\n",
    "df = df.div(df.sum(axis=1), axis=0).round(3) * 100\n",
    "plt.figure(figsize=(25,15))\n",
    "sns.heatmap(df, cmap='BuPu', annot=True, fmt='g')\n",
    "plt.savefig('./images/confusion_matrix/retacred-cgcn-relabel')"
   ]
  },
  {
   "cell_type": "markdown",
   "id": "5836ea1c",
   "metadata": {},
   "source": [
    "# Rough"
   ]
  },
  {
   "cell_type": "code",
   "execution_count": null,
   "id": "6db94b6d",
   "metadata": {},
   "outputs": [],
   "source": []
  }
 ],
 "metadata": {
  "kernelspec": {
   "display_name": "Python 3",
   "language": "python",
   "name": "python3"
  },
  "language_info": {
   "codemirror_mode": {
    "name": "ipython",
    "version": 3
   },
   "file_extension": ".py",
   "mimetype": "text/x-python",
   "name": "python",
   "nbconvert_exporter": "python",
   "pygments_lexer": "ipython3",
   "version": "3.6.9"
  }
 },
 "nbformat": 4,
 "nbformat_minor": 5
}
