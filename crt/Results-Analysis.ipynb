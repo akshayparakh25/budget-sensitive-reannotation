{
 "cells": [
  {
   "cell_type": "code",
   "execution_count": 1,
   "id": "4df0603d",
   "metadata": {},
   "outputs": [],
   "source": [
    "import pandas as pd\n",
    "import json\n",
    "import textstat as txt\n",
    "from itertools import groupby\n",
    "import pickle\n",
    "import csv\n",
    "\n",
    "import numpy as np\n",
    "\n",
    "import matplotlib.pyplot as plt\n",
    "import seaborn as sns"
   ]
  },
  {
   "cell_type": "code",
   "execution_count": 2,
   "id": "a026de30",
   "metadata": {},
   "outputs": [
    {
     "name": "stdout",
     "output_type": "stream",
     "text": [
      "Number of Training instances :: 68124\n",
      "Number of Dev instances :: 22631\n",
      "Number of Test instances :: 15509\n"
     ]
    }
   ],
   "source": [
    "train_data = json.load(open('./../dataset/tacred/json/train.json'))\n",
    "print(\"Number of Training instances :: {}\".format(len(train_data)))\n",
    "\n",
    "dev_data = json.load(open('./../dataset/tacred/json/dev.json'))\n",
    "print(\"Number of Dev instances :: {}\".format(len(dev_data)))\n",
    "\n",
    "test_data = json.load(open('./../dataset/tacred/json/test.json'))\n",
    "print(\"Number of Test instances :: {}\".format(len(test_data)))"
   ]
  },
  {
   "cell_type": "code",
   "execution_count": 30,
   "id": "85705356",
   "metadata": {},
   "outputs": [],
   "source": [
    "hierarchy_filtered = pickle.load(open('/home/akshay/re_rc/ACL-SIGIR2021/filtered_ids.pkl', 'rb'))"
   ]
  },
  {
   "cell_type": "code",
   "execution_count": null,
   "id": "7ded99c1",
   "metadata": {},
   "outputs": [],
   "source": [
    "def convert_token(token):\n",
    "    \"\"\" Convert PTB tokens to normal tokens \"\"\"\n",
    "    if (token.lower() == '-lrb-'):\n",
    "            return '('\n",
    "    elif (token.lower() == '-rrb-'):\n",
    "        return ')'\n",
    "    elif (token.lower() == '-lsb-'):\n",
    "        return '['\n",
    "    elif (token.lower() == '-rsb-'):\n",
    "        return ']'\n",
    "    elif (token.lower() == '-lcb-'):\n",
    "        return '{'\n",
    "    elif (token.lower() == '-rcb-'):\n",
    "        return '}'\n",
    "    return token"
   ]
  },
  {
   "cell_type": "code",
   "execution_count": null,
   "id": "f5300831",
   "metadata": {},
   "outputs": [],
   "source": [
    "def print_details(sid, data=train_data):\n",
    "    for eg in data:\n",
    "        if eg['id'] == sid:\n",
    "            print(eg['id'])\n",
    "            print(' '.join([convert_token(tok) for tok in eg['token']]))\n",
    "            print(len(eg['token']))\n",
    "            print((eg['token'][eg['subj_start']:eg['subj_end']+1], eg['token'][eg['obj_start']:eg['obj_end']+1]))\n",
    "            print(eg['subj_start'], eg['subj_end'], eg['obj_start'], eg['obj_end'])\n",
    "            print(eg['relation'])\n",
    "            print(eg['stanford_ner'])\n",
    "            print(eg['subj_type'])\n",
    "            print(eg['obj_type'])\n",
    "            print(\"-----\"*20)"
   ]
  },
  {
   "cell_type": "code",
   "execution_count": null,
   "id": "6faedd87",
   "metadata": {},
   "outputs": [],
   "source": [
    "def generate_flesch_kincaid_grade(dataset):\n",
    "    s_ids = []\n",
    "    score = []\n",
    "    for i, eg in enumerate(dataset, start=1):\n",
    "        s_id = eg['id']\n",
    "        tokens  = eg['token']\n",
    "        sentence = ' '.join([convert_token(t) for t in tokens])\n",
    "        s_ids.append(s_id)\n",
    "        score.append(txt.flesch_kincaid_grade(sentence))\n",
    "    assert len(s_ids) == len(score)\n",
    "    print(len(s_ids), len(score))\n",
    "    df = pd.DataFrame({'sentence_id':s_ids, 'f_k_score':score})\n",
    "    return df"
   ]
  },
  {
   "cell_type": "code",
   "execution_count": null,
   "id": "23b12ba0",
   "metadata": {},
   "outputs": [],
   "source": [
    "df_train_fk = generate_flesch_kincaid_grade(train_data)"
   ]
  },
  {
   "cell_type": "code",
   "execution_count": null,
   "id": "4b17605c",
   "metadata": {},
   "outputs": [],
   "source": [
    "def generate_sentence_length_mapping(dataset):\n",
    "    s_ids = []\n",
    "    s_lens = []\n",
    "    for eg in dataset:\n",
    "        s_id = eg['id']\n",
    "        tokens = eg['token']\n",
    "        s_ids.append(s_id)\n",
    "        s_lens.append(len(tokens))\n",
    "    \n",
    "    assert len(s_ids) == len(s_lens) \n",
    "    print(len(s_ids), len(s_lens) )\n",
    "    df = pd.DataFrame({'sentence_id':s_ids, 'sentence_len':s_lens})\n",
    "    return df"
   ]
  },
  {
   "cell_type": "code",
   "execution_count": null,
   "id": "f7a01924",
   "metadata": {},
   "outputs": [],
   "source": [
    "df_train_len = generate_sentence_length_mapping(train_data)\n",
    "df_dev_len = generate_sentence_length_mapping(dev_data)"
   ]
  },
  {
   "cell_type": "code",
   "execution_count": null,
   "id": "1df538f2",
   "metadata": {},
   "outputs": [],
   "source": [
    "df_train_len.head()"
   ]
  },
  {
   "cell_type": "code",
   "execution_count": null,
   "id": "bba1d7f2",
   "metadata": {},
   "outputs": [],
   "source": [
    "df_dev_len.head()"
   ]
  },
  {
   "cell_type": "code",
   "execution_count": null,
   "id": "8b0f6d90",
   "metadata": {},
   "outputs": [],
   "source": [
    "def get_coarse_type(et):\n",
    "    if et in ['CITY', 'COUNTRY', 'STATE_OR_PROVINCE']:\n",
    "        return 'LOCATION'\n",
    "    elif et in ['URL', 'NATIONALITY', 'TITLE', 'CRIMINAL_CHARGE', 'RELIGION', 'DURATION', 'IDEOLOGY', 'CAUSE_OF_DEATH']:\n",
    "        return 'MISC'\n",
    "    else:\n",
    "        return et"
   ]
  },
  {
   "cell_type": "code",
   "execution_count": null,
   "id": "1b0cfa1d",
   "metadata": {},
   "outputs": [],
   "source": [
    "def get_similar_entity_count(ets, st, ot):\n",
    "#     print(ets)\n",
    "    cst = get_coarse_type(st)\n",
    "    cot = get_coarse_type(ot)\n",
    "#     print(st, cst)\n",
    "#     print(ot, cot)\n",
    "    sc = max(0, sum([et == cst or et == cot for et in ets])-2)\n",
    "#     print(sc)\n",
    "    return sc"
   ]
  },
  {
   "cell_type": "code",
   "execution_count": null,
   "id": "eb237fbd",
   "metadata": {},
   "outputs": [],
   "source": [
    "def generate_entity_specific_attribute(dataset):\n",
    "    s_ids = []\n",
    "    distance = []\n",
    "    e_count = []\n",
    "    sim_ent_count = []\n",
    "    uniq_ets = []\n",
    "    same_arg = []\n",
    "    for eg in dataset:\n",
    "        s_id = eg['id']\n",
    "        s_ids.append(s_id)\n",
    "        s_start = eg['subj_start']\n",
    "        s_end = eg['subj_end']\n",
    "        o_start = eg['obj_start']\n",
    "        o_end = eg['obj_end']\n",
    "        s_type = eg['subj_type']\n",
    "        o_type = eg['obj_type']\n",
    "        subj = eg['token'][s_start:s_end+1]\n",
    "        obj = eg['token'][o_start:o_end+1]\n",
    "        # number of tokens between the subject and object entities\n",
    "        if s_end < o_start:\n",
    "            e_dist = o_start - s_end - 1\n",
    "        elif o_end < s_start:\n",
    "            e_dist = s_start - o_end - 1\n",
    "        distance.append(e_dist)\n",
    "#         print(s_id)\n",
    "        # Number of entities in the sentence based on stanford NER\n",
    "        ner = eg['stanford_ner']\n",
    "#         print(ner)\n",
    "        s = e = 0\n",
    "        n_e = 0\n",
    "        p_et = None\n",
    "        etypes = []\n",
    "        for i, et in enumerate(ner):\n",
    "            if et == 'O':\n",
    "                if e != 0:\n",
    "                    n_e += 1\n",
    "                    etypes.append(p_et)\n",
    "                    s = e = 0\n",
    "                    p_et = None\n",
    "                continue\n",
    "            else:\n",
    "                if p_et and p_et != et:\n",
    "                    n_e += 1\n",
    "                    etypes.append(p_et)\n",
    "                    s = e = 0\n",
    "                    p_et = None\n",
    "                s += 1\n",
    "                e += 1\n",
    "            p_et = et\n",
    "        assert len(etypes) == n_e\n",
    "        e_count.append(n_e)\n",
    "        \n",
    "        # Number of entities with type similar to arguements\n",
    "        sc = get_similar_entity_count(etypes, s_type, o_type)\n",
    "        sim_ent_count.append(sc)\n",
    "        \n",
    "        # Same arguement types\n",
    "        if s_type == o_type:\n",
    "            same_arg.append(1)\n",
    "        else:\n",
    "            same_arg.append(0)\n",
    "        \n",
    "        # Identifying unique entity types\n",
    "        if s_type not in uniq_ets:\n",
    "            uniq_ets.append(s_type)\n",
    "        if o_type not in uniq_ets:\n",
    "            uniq_ets.append(o_type)\n",
    "            \n",
    "    assert len(s_ids) == len(distance)\n",
    "    assert len(s_ids) == len(e_count)\n",
    "    print(len(s_ids), len(distance), len(e_count))\n",
    "    df = pd.DataFrame({'sentence_id':s_ids, 'entities_distance':distance, 'entities_count':e_count, \n",
    "                       'sim_arg_type_count':sim_ent_count, 'same_args':same_arg})\n",
    "    return df"
   ]
  },
  {
   "cell_type": "code",
   "execution_count": null,
   "id": "acd38f4e",
   "metadata": {},
   "outputs": [],
   "source": [
    "df_train_ef = generate_entity_specific_attribute(train_data)\n",
    "df_dev_ef = generate_entity_specific_attribute(dev_data)"
   ]
  },
  {
   "cell_type": "code",
   "execution_count": null,
   "id": "274bee38",
   "metadata": {},
   "outputs": [],
   "source": [
    "df_train_ef.head()"
   ]
  },
  {
   "cell_type": "code",
   "execution_count": null,
   "id": "266884c8",
   "metadata": {},
   "outputs": [],
   "source": [
    "df_dev_ef.head()"
   ]
  },
  {
   "cell_type": "code",
   "execution_count": null,
   "id": "b5aad74e",
   "metadata": {},
   "outputs": [],
   "source": [
    "# df_train_attr = df_train_ef.merge(df_train_len).merge(df_train_fk)\n",
    "# df_train_attr.head()\n",
    "\n",
    "df_train_attr = df_train_ef.merge(df_train_len)\n",
    "df_train_attr.head()"
   ]
  },
  {
   "cell_type": "code",
   "execution_count": null,
   "id": "7140f127",
   "metadata": {},
   "outputs": [],
   "source": [
    "df_dev_attr = df_dev_ef.merge(df_dev_len)\n",
    "df_dev_attr.head()"
   ]
  },
  {
   "cell_type": "markdown",
   "id": "20f10a08",
   "metadata": {},
   "source": [
    "### Noisy Instances for Elimination"
   ]
  },
  {
   "cell_type": "code",
   "execution_count": 3,
   "id": "afd14829",
   "metadata": {},
   "outputs": [],
   "source": [
    "pnoisy = pickle.load(open('./Pallneg_noisy_ids.pkl', 'rb'))\n",
    "parnn_train_noisy = pnoisy['train']\n",
    "parnn_dev_noisy = pnoisy['dev']"
   ]
  },
  {
   "cell_type": "code",
   "execution_count": 4,
   "id": "8ea3588c",
   "metadata": {},
   "outputs": [],
   "source": [
    "cnoisy = pickle.load(open('./allneg_noisy_ids.pkl', 'rb'))\n",
    "cgcn_train_noisy = cnoisy['train']\n",
    "cgcn_dev_noisy = cnoisy['dev']"
   ]
  },
  {
   "cell_type": "code",
   "execution_count": 5,
   "id": "74bae48c",
   "metadata": {},
   "outputs": [
    {
     "name": "stdout",
     "output_type": "stream",
     "text": [
      "1878 1568 797\n",
      "969 852 454\n"
     ]
    }
   ],
   "source": [
    "common_train = set(parnn_train_noisy).intersection(cgcn_train_noisy)\n",
    "print(len(cgcn_train_noisy), len(parnn_train_noisy), len(common_train))\n",
    "\n",
    "common_dev = set(parnn_dev_noisy).intersection(cgcn_dev_noisy)\n",
    "print(len(cgcn_dev_noisy), len(parnn_dev_noisy), len(common_dev))"
   ]
  },
  {
   "cell_type": "code",
   "execution_count": null,
   "id": "5ac41604",
   "metadata": {},
   "outputs": [],
   "source": [
    "noisy_train = df_train_attr[df_train_attr.sentence_id.isin(common_train)]\n",
    "noisy_train.describe()"
   ]
  },
  {
   "cell_type": "code",
   "execution_count": null,
   "id": "0aa03e09",
   "metadata": {},
   "outputs": [],
   "source": [
    "rest_train = df_train_attr[~df_train_attr.sentence_id.isin(common_train)]\n",
    "rest_train.describe()"
   ]
  },
  {
   "cell_type": "code",
   "execution_count": null,
   "id": "8de003d3",
   "metadata": {},
   "outputs": [],
   "source": [
    "l = len(noisy_train)\n",
    "print(\"Number of common (PALSTM & CGCN) noisy train instances  ::  {}\".format(l))\n",
    "print(\"Number of instances with entities distance equals to 1  :: {}\".\n",
    "      format(round(len(noisy_train[noisy_train.entities_distance == 1]) / l *100, 2)))\n",
    "print(\"Number of instances with entities distance greater than 8  :: {}\".\n",
    "      format(round(len(noisy_train[noisy_train.entities_distance > 8]) / l *100, 2)))\n",
    "print(\"Number of instances with entities count greater than 5  :: {}\".\n",
    "      format(round(len(noisy_train[noisy_train.entities_count > 5]) / l *100, 2)))\n",
    "print(\"Number of instances with entities count greater than 3  :: {}\".\n",
    "      format(round(len(noisy_train[noisy_train.entities_count > 3]) / l *100, 2)))\n",
    "print(\"Number of instances with more than 1 entity similar to arguements' type :: {}\".\n",
    "      format(round(len(noisy_train[noisy_train.sim_arg_type_count > 1]) / l *100, 2)))\n",
    "print(\"Number of instances with both the arguement of same type type :: {}\".\n",
    "      format(round(len(noisy_train[noisy_train.same_args == 1]) / l *100, 2)))\n",
    "print(\"Number of instances with length of sentence greater than 30 :: {}\".\n",
    "      format(round(len(noisy_train[noisy_train.sentence_len > 30]) / l *100, 2)))"
   ]
  },
  {
   "cell_type": "code",
   "execution_count": null,
   "id": "61d13d69",
   "metadata": {},
   "outputs": [],
   "source": [
    "noisy_dev = df_dev_attr[df_dev_attr.sentence_id.isin(common_dev)]\n",
    "noisy_dev.describe()"
   ]
  },
  {
   "cell_type": "code",
   "execution_count": null,
   "id": "c0564617",
   "metadata": {},
   "outputs": [],
   "source": [
    "rest_dev = df_dev_attr[~df_dev_attr.sentence_id.isin(common_dev)]\n",
    "rest_dev.describe()"
   ]
  },
  {
   "cell_type": "code",
   "execution_count": null,
   "id": "d05aef26",
   "metadata": {},
   "outputs": [],
   "source": [
    "l = len(noisy_dev)\n",
    "print(\"Number of common (PALSTM & CGCN) noisy dev instances  ::  {}\".format(l))\n",
    "print(\"Number of instances with entities distance equals to 1  :: {}\".\n",
    "      format(round(len(noisy_dev[noisy_dev.entities_distance == 1]) / l *100, 2)))\n",
    "print(\"Number of instances with entities distance greater than 8  :: {}\".\n",
    "      format(round(len(noisy_dev[noisy_dev.entities_distance > 8]) / l *100, 2)))\n",
    "print(\"Number of instances with entities count greater than 5  :: {}\".\n",
    "      format(round(len(noisy_dev[noisy_dev.entities_count > 5]) / l *100, 2)))\n",
    "print(\"Number of instances with entities count greater than 3  :: {}\".\n",
    "      format(round(len(noisy_dev[noisy_dev.entities_count > 3]) / l *100, 2)))\n",
    "print(\"Number of instances with more than 1 entity similar to arguements' type :: {}\".\n",
    "      format(round(len(noisy_dev[noisy_dev.sim_arg_type_count > 1]) / l *100, 2)))\n",
    "print(\"Number of instances with both the arguement of same type type :: {}\".\n",
    "      format(round(len(noisy_dev[noisy_dev.same_args == 1]) / l *100, 2)))\n",
    "print(\"Number of instances with length of sentence greater than 30 :: {}\".\n",
    "      format(round(len(noisy_dev[noisy_dev.sentence_len > 30]) / l *100, 2)))"
   ]
  },
  {
   "cell_type": "code",
   "execution_count": null,
   "id": "8ded71ad",
   "metadata": {},
   "outputs": [],
   "source": [
    "sids = noisy_train.sentence_id.values\n",
    "indexes = np.random.choice(len(sids), size=100, replace=False)\n",
    "\n",
    "for i, index in enumerate(indexes, start=1):\n",
    "    print(i)\n",
    "    print_details(sids[index])"
   ]
  },
  {
   "cell_type": "code",
   "execution_count": null,
   "id": "170aa1ea",
   "metadata": {},
   "outputs": [],
   "source": []
  },
  {
   "cell_type": "markdown",
   "id": "b71a1f43",
   "metadata": {},
   "source": [
    "### Noisy Instances for Reannotation"
   ]
  },
  {
   "cell_type": "code",
   "execution_count": 27,
   "id": "e1725ea3",
   "metadata": {},
   "outputs": [],
   "source": [
    "pnoisy = pickle.load(open('./Pallneg_relabel_ids.pkl', 'rb'))\n",
    "parnn_train_noisy = pnoisy['train']\n",
    "parnn_dev_noisy = pnoisy['dev']"
   ]
  },
  {
   "cell_type": "code",
   "execution_count": 28,
   "id": "86d8168e",
   "metadata": {},
   "outputs": [],
   "source": [
    "cnoisy = pickle.load(open('./allneg_relabel_ids.pkl', 'rb'))\n",
    "cgcn_train_noisy = cnoisy['train']\n",
    "cgcn_dev_noisy = cnoisy['dev']"
   ]
  },
  {
   "cell_type": "code",
   "execution_count": 29,
   "id": "856fb20f",
   "metadata": {},
   "outputs": [
    {
     "name": "stdout",
     "output_type": "stream",
     "text": [
      "1642 1354 694\n",
      "843 768 403\n"
     ]
    }
   ],
   "source": [
    "common_train = set(parnn_train_noisy).intersection(cgcn_train_noisy)\n",
    "print(len(cgcn_train_noisy), len(parnn_train_noisy), len(common_train))\n",
    "\n",
    "common_dev = set(parnn_dev_noisy).intersection(cgcn_dev_noisy)\n",
    "print(len(cgcn_dev_noisy), len(parnn_dev_noisy), len(common_dev))"
   ]
  },
  {
   "cell_type": "code",
   "execution_count": null,
   "id": "dcc2928d",
   "metadata": {},
   "outputs": [],
   "source": [
    "noisy_train = df_train_attr[df_train_attr.sentence_id.isin(common_train)]\n",
    "noisy_train.describe()"
   ]
  },
  {
   "cell_type": "code",
   "execution_count": null,
   "id": "f86b3ea6",
   "metadata": {},
   "outputs": [],
   "source": [
    "rest_train = df_train_attr[~df_train_attr.sentence_id.isin(common_train)]\n",
    "rest_train.describe()"
   ]
  },
  {
   "cell_type": "code",
   "execution_count": null,
   "id": "34106700",
   "metadata": {},
   "outputs": [],
   "source": [
    "l = len(noisy_train)\n",
    "print(\"Number of common (PALSTM & CGCN) noisy train instances  ::  {}\".format(l))\n",
    "print(\"Number of instances with entities distance equals to 1  :: {}\".\n",
    "      format(round(len(noisy_train[noisy_train.entities_distance == 1]) / l *100, 2)))\n",
    "print(\"Number of instances with entities distance greater than 8  :: {}\".\n",
    "      format(round(len(noisy_train[noisy_train.entities_distance > 8]) / l *100, 2)))\n",
    "print(\"Number of instances with entities count greater than 5  :: {}\".\n",
    "      format(round(len(noisy_train[noisy_train.entities_count > 5]) / l *100, 2)))\n",
    "print(\"Number of instances with entities count greater than 3  :: {}\".\n",
    "      format(round(len(noisy_train[noisy_train.entities_count > 3]) / l *100, 2)))\n",
    "print(\"Number of instances with more than 1 entity similar to arguements' type :: {}\".\n",
    "      format(round(len(noisy_train[noisy_train.sim_arg_type_count > 1]) / l *100, 2)))\n",
    "print(\"Number of instances with both the arguement of same type type :: {}\".\n",
    "      format(round(len(noisy_train[noisy_train.same_args == 1]) / l *100, 2)))\n",
    "print(\"Number of instances with length of sentence greater than 30 :: {}\".\n",
    "      format(round(len(noisy_train[noisy_train.sentence_len > 30]) / l *100, 2)))"
   ]
  },
  {
   "cell_type": "code",
   "execution_count": null,
   "id": "7167b0eb",
   "metadata": {},
   "outputs": [],
   "source": [
    "noisy_dev = df_dev_attr[df_dev_attr.sentence_id.isin(common_dev)]\n",
    "noisy_dev.describe()"
   ]
  },
  {
   "cell_type": "code",
   "execution_count": null,
   "id": "3fbb88bc",
   "metadata": {},
   "outputs": [],
   "source": [
    "rest_dev = df_dev_attr[~df_dev_attr.sentence_id.isin(common_dev)]\n",
    "rest_dev.describe()"
   ]
  },
  {
   "cell_type": "code",
   "execution_count": null,
   "id": "65d579c3",
   "metadata": {},
   "outputs": [],
   "source": [
    "l = len(noisy_dev)\n",
    "print(\"Number of common (PALSTM & CGCN) noisy dev instances  ::  {}\".format(l))\n",
    "print(\"Number of instances with entities distance equals to 1  :: {}\".\n",
    "      format(round(len(noisy_dev[noisy_dev.entities_distance == 1]) / l *100, 2)))\n",
    "print(\"Number of instances with entities distance greater than 8  :: {}\".\n",
    "      format(round(len(noisy_dev[noisy_dev.entities_distance > 8]) / l *100, 2)))\n",
    "print(\"Number of instances with entities count greater than 5  :: {}\".\n",
    "      format(round(len(noisy_dev[noisy_dev.entities_count > 5]) / l *100, 2)))\n",
    "print(\"Number of instances with entities count greater than 3  :: {}\".\n",
    "      format(round(len(noisy_dev[noisy_dev.entities_count > 3]) / l *100, 2)))\n",
    "print(\"Number of instances with more than 1 entity similar to arguements' type :: {}\".\n",
    "      format(round(len(noisy_dev[noisy_dev.sim_arg_type_count > 1]) / l *100, 2)))\n",
    "print(\"Number of instances with both the arguement of same type type :: {}\".\n",
    "      format(round(len(noisy_dev[noisy_dev.same_args == 1]) / l *100, 2)))\n",
    "print(\"Number of instances with length of sentence greater than 30 :: {}\".\n",
    "      format(round(len(noisy_dev[noisy_dev.sentence_len > 30]) / l *100, 2)))"
   ]
  },
  {
   "cell_type": "code",
   "execution_count": null,
   "id": "92aadee0",
   "metadata": {},
   "outputs": [],
   "source": []
  },
  {
   "cell_type": "code",
   "execution_count": null,
   "id": "6056489f",
   "metadata": {},
   "outputs": [],
   "source": []
  },
  {
   "cell_type": "code",
   "execution_count": null,
   "id": "d8641908",
   "metadata": {},
   "outputs": [],
   "source": []
  },
  {
   "cell_type": "code",
   "execution_count": null,
   "id": "4d03bfa4",
   "metadata": {},
   "outputs": [],
   "source": []
  },
  {
   "cell_type": "code",
   "execution_count": null,
   "id": "515aa213",
   "metadata": {},
   "outputs": [],
   "source": []
  },
  {
   "cell_type": "code",
   "execution_count": null,
   "id": "f38171b1",
   "metadata": {},
   "outputs": [],
   "source": [
    "print_details('61b3a89f60d0777c9f0f')"
   ]
  },
  {
   "cell_type": "code",
   "execution_count": null,
   "id": "c16a2f19",
   "metadata": {},
   "outputs": [],
   "source": [
    "print_details('61b3aa9e363a44f45c48')"
   ]
  },
  {
   "cell_type": "code",
   "execution_count": null,
   "id": "0d26f74a",
   "metadata": {},
   "outputs": [],
   "source": [
    "print_details('61b3a65fb9b7111c4ca4')"
   ]
  },
  {
   "cell_type": "code",
   "execution_count": null,
   "id": "e48e02be",
   "metadata": {},
   "outputs": [],
   "source": [
    "sids = noisy_train.sentence_id.values\n",
    "indexes = np.random.choice(len(sids), size=100, replace=False)\n",
    "\n",
    "for i, index in enumerate(indexes, start=1):\n",
    "    print(i)\n",
    "    print_details(sids[index])"
   ]
  },
  {
   "cell_type": "code",
   "execution_count": null,
   "id": "a31d853f",
   "metadata": {},
   "outputs": [],
   "source": [
    "len(sids)"
   ]
  },
  {
   "cell_type": "code",
   "execution_count": null,
   "id": "ae5910d1",
   "metadata": {},
   "outputs": [],
   "source": [
    "sids = noisy_train.sentence_id.values\n",
    "tmp = []\n",
    "for i, sid in enumerate(sids, start=1):\n",
    "    for eg in train_data:\n",
    "        if eg['id'] == sid:\n",
    "            tmp.append((eg['subj_type'], eg['obj_type']))"
   ]
  },
  {
   "cell_type": "code",
   "execution_count": null,
   "id": "8cc70f2f",
   "metadata": {},
   "outputs": [],
   "source": [
    "from collections import Counter"
   ]
  },
  {
   "cell_type": "code",
   "execution_count": null,
   "id": "d301d6c0",
   "metadata": {},
   "outputs": [],
   "source": [
    "sorted(dict(Counter(tmp)).items(), key=lambda item:item[1], reverse=True)"
   ]
  },
  {
   "cell_type": "code",
   "execution_count": null,
   "id": "c19f8903",
   "metadata": {},
   "outputs": [],
   "source": []
  },
  {
   "cell_type": "markdown",
   "id": "352d38e0",
   "metadata": {},
   "source": [
    "## Effect on Predictions"
   ]
  },
  {
   "cell_type": "markdown",
   "id": "9285d48d",
   "metadata": {},
   "source": [
    "### Eliminating noisy negative instances"
   ]
  },
  {
   "cell_type": "code",
   "execution_count": null,
   "id": "5fab949f",
   "metadata": {},
   "outputs": [],
   "source": [
    "cgcn = pd.read_csv('./cgcn/results/prediction_stats/cgcn.csv', header=0)\n",
    "cgcn_en = pd.read_csv('cgcn/results/prediction_stats/cgcn-elimination-k3.csv')\n",
    "\n",
    "cgcn_en_diff = pd.DataFrame({'relation':cgcn.relation,\n",
    "                              'f1_diff':cgcn_en.f1 - cgcn.f1})\n",
    "# cgcn_en_diff"
   ]
  },
  {
   "cell_type": "code",
   "execution_count": null,
   "id": "1d5ad5ed",
   "metadata": {},
   "outputs": [],
   "source": [
    "print(\"Performance Improved  :: \", len(cgcn_en_diff[cgcn_en_diff.f1_diff > 0]))\n",
    "print(\"Performance Declined  :: \", len(cgcn_en_diff[cgcn_en_diff.f1_diff < 0]))\n",
    "print(\"Performance Remained Same  :: \", len(cgcn_en_diff[cgcn_en_diff.f1_diff == 0]))"
   ]
  },
  {
   "cell_type": "code",
   "execution_count": null,
   "id": "8c8c25a5",
   "metadata": {},
   "outputs": [],
   "source": [
    "parnn = pd.read_csv('./tacred/results/prediction_stats/parnn.csv', header=0)\n",
    "parnn_en = pd.read_csv('tacred/results/prediction_stats/parnn-elimination-k3.csv')\n",
    "\n",
    "parnn_en_diff = pd.DataFrame({'relation':parnn.relation,\n",
    "                              'f1_diff':parnn_en.f1 - parnn.f1})\n",
    "# parnn_en_diff"
   ]
  },
  {
   "cell_type": "code",
   "execution_count": null,
   "id": "010528d6",
   "metadata": {},
   "outputs": [],
   "source": [
    "print(\"Performance Improved  :: \", len(parnn_en_diff[parnn_en_diff.f1_diff > 0]))\n",
    "print(\"Performance Declined  :: \", len(parnn_en_diff[parnn_en_diff.f1_diff < 0]))\n",
    "print(\"Performance Remained Same  :: \", len(parnn_en_diff[parnn_en_diff.f1_diff == 0]))"
   ]
  },
  {
   "cell_type": "code",
   "execution_count": null,
   "id": "b03da456",
   "metadata": {},
   "outputs": [],
   "source": [
    "eni = set(list(parnn_en_diff.relation[parnn_en_diff.f1_diff > 0])).intersection(\n",
    "        set(list(cgcn_en_diff.relation[cgcn_en_diff.f1_diff > 0])))\n",
    "print(\"Performance Improved  :: \", eni)\n",
    "end = set(list(parnn_en_diff.relation[parnn_en_diff.f1_diff < 0])).intersection(\n",
    "        set(list(cgcn_en_diff.relation[cgcn_en_diff.f1_diff < 0])))\n",
    "print(\"Performance Declined  :: \", end)\n",
    "ens = set(list(parnn_en_diff.relation[parnn_en_diff.f1_diff == 0])).intersection(\n",
    "        set(list(cgcn_en_diff.relation[cgcn_en_diff.f1_diff == 0])))\n",
    "print(\"Performance Remained Same  :: \", ens)"
   ]
  },
  {
   "cell_type": "code",
   "execution_count": null,
   "id": "c568a084",
   "metadata": {},
   "outputs": [],
   "source": [
    "print(\"Performance Improved  :: \", len(set(list(parnn_en_diff.relation[parnn_en_diff.f1_diff > 0])).intersection(\n",
    "        set(list(cgcn_en_diff.relation[cgcn_en_diff.f1_diff > 0])))))\n",
    "print(\"Performance Declined  :: \", len(set(list(parnn_en_diff.relation[parnn_en_diff.f1_diff < 0])).intersection(\n",
    "        set(list(cgcn_en_diff.relation[cgcn_en_diff.f1_diff < 0])))))\n",
    "print(\"Performance Remained Same  :: \", len(set(list(parnn_en_diff.relation[parnn_en_diff.f1_diff == 0])).intersection(\n",
    "        set(list(cgcn_en_diff.relation[cgcn_en_diff.f1_diff == 0])))))"
   ]
  },
  {
   "cell_type": "markdown",
   "id": "df642245",
   "metadata": {},
   "source": [
    "### Eliminating Noisy Negative & Positive Instances"
   ]
  },
  {
   "cell_type": "code",
   "execution_count": null,
   "id": "69ce937a",
   "metadata": {},
   "outputs": [],
   "source": [
    "cgcn_enp = pd.read_csv('cgcn/results/prediction_stats/cgcn-elimination-posneg-k3.csv')\n",
    "\n",
    "cgcn_enp_diff = pd.DataFrame({'relation':cgcn.relation,\n",
    "                              'f1_diff':cgcn_enp.f1 - cgcn.f1})\n",
    "# cgcn_enp_diff"
   ]
  },
  {
   "cell_type": "code",
   "execution_count": null,
   "id": "69564a4c",
   "metadata": {},
   "outputs": [],
   "source": [
    "print(\"Performance Improved  :: \", len(cgcn_enp_diff[cgcn_enp_diff.f1_diff > 0]))\n",
    "print(\"Performance Declined  :: \", len(cgcn_enp_diff[cgcn_enp_diff.f1_diff < 0]))\n",
    "print(\"Performance Remained Same  :: \", len(cgcn_enp_diff[cgcn_enp_diff.f1_diff == 0]))"
   ]
  },
  {
   "cell_type": "code",
   "execution_count": null,
   "id": "5f888080",
   "metadata": {},
   "outputs": [],
   "source": [
    "parnn_enp = pd.read_csv('tacred/results/prediction_stats/parnn-elimination-posneg-k3.csv')\n",
    "\n",
    "parnn_enp_diff = pd.DataFrame({'relation':parnn.relation,\n",
    "                              'f1_diff':parnn_enp.f1 - parnn.f1})\n",
    "# parnn_enp_diff"
   ]
  },
  {
   "cell_type": "code",
   "execution_count": null,
   "id": "5d91e2ff",
   "metadata": {},
   "outputs": [],
   "source": [
    "print(\"Performance Improved  :: \", len(parnn_enp_diff[parnn_enp_diff.f1_diff > 0]))\n",
    "print(\"Performance Declined  :: \", len(parnn_enp_diff[parnn_enp_diff.f1_diff < 0]))\n",
    "print(\"Performance Remained Same  :: \", len(parnn_enp_diff[parnn_enp_diff.f1_diff == 0]))"
   ]
  },
  {
   "cell_type": "code",
   "execution_count": null,
   "id": "1a918bec",
   "metadata": {},
   "outputs": [],
   "source": [
    "enpi = set(list(parnn_enp_diff.relation[parnn_enp_diff.f1_diff > 0])).intersection(\n",
    "        set(list(cgcn_enp_diff.relation[cgcn_enp_diff.f1_diff > 0])))\n",
    "print(\"Performance Improved  :: \", enpi)\n",
    "enpd = set(list(parnn_enp_diff.relation[parnn_enp_diff.f1_diff < 0])).intersection(\n",
    "        set(list(cgcn_enp_diff.relation[cgcn_enp_diff.f1_diff < 0])))\n",
    "print(\"Performance Declined  :: \", enpd)\n",
    "enps = set(list(parnn_enp_diff.relation[parnn_enp_diff.f1_diff == 0])).intersection(\n",
    "        set(list(cgcn_enp_diff.relation[cgcn_enp_diff.f1_diff == 0])))\n",
    "print(\"Performance Remained Same  :: \", enps)"
   ]
  },
  {
   "cell_type": "code",
   "execution_count": null,
   "id": "50621feb",
   "metadata": {},
   "outputs": [],
   "source": [
    "print(\"Performance Improved  :: \", len(set(list(parnn_enp_diff.relation[parnn_enp_diff.f1_diff > 0])).intersection(\n",
    "        set(list(cgcn_enp_diff.relation[cgcn_enp_diff.f1_diff > 0])))))\n",
    "print(\"Performance Declined  :: \", len(set(list(parnn_enp_diff.relation[parnn_enp_diff.f1_diff < 0])).intersection(\n",
    "        set(list(cgcn_enp_diff.relation[cgcn_enp_diff.f1_diff < 0])))))\n",
    "print(\"Performance Remained Same  :: \", len(set(list(parnn_enp_diff.relation[parnn_enp_diff.f1_diff == 0])).intersection(\n",
    "        set(list(cgcn_enp_diff.relation[cgcn_enp_diff.f1_diff == 0])))))"
   ]
  },
  {
   "cell_type": "markdown",
   "id": "7d5d72de",
   "metadata": {},
   "source": [
    "### Reannotating Noisy Negative Instances"
   ]
  },
  {
   "cell_type": "code",
   "execution_count": null,
   "id": "04a293d8",
   "metadata": {},
   "outputs": [],
   "source": [
    "cgcn_rn = pd.read_csv('cgcn/results/prediction_stats/cgcn-replace-neg.csv')\n",
    "\n",
    "cgcn_rn_diff = pd.DataFrame({'relation':cgcn.relation,\n",
    "                              'f1_diff':cgcn_rn.f1 - cgcn.f1})\n",
    "# cgcn_rn_diff"
   ]
  },
  {
   "cell_type": "code",
   "execution_count": null,
   "id": "510447e6",
   "metadata": {},
   "outputs": [],
   "source": [
    "print(\"Performance Improved  :: \", len(cgcn_rn_diff[cgcn_rn_diff.f1_diff > 0]))\n",
    "print(\"Performance Declined  :: \", len(cgcn_rn_diff[cgcn_rn_diff.f1_diff < 0]))\n",
    "print(\"Performance Remained Same  :: \", len(cgcn_rn_diff[cgcn_rn_diff.f1_diff == 0]))"
   ]
  },
  {
   "cell_type": "code",
   "execution_count": null,
   "id": "57d70b27",
   "metadata": {},
   "outputs": [],
   "source": [
    "parnn_rn = pd.read_csv('tacred/results/prediction_stats/parnn-replace-neg.csv')\n",
    "\n",
    "parnn_rn_diff = pd.DataFrame({'relation':parnn.relation,\n",
    "                              'f1_diff':parnn_rn.f1 - parnn.f1})\n",
    "# parnn_rn_diff"
   ]
  },
  {
   "cell_type": "code",
   "execution_count": null,
   "id": "52c8e1e0",
   "metadata": {},
   "outputs": [],
   "source": [
    "print(\"Performance Improved  :: \", len(parnn_rn_diff[parnn_rn_diff.f1_diff > 0]))\n",
    "print(\"Performance Declined  :: \", len(parnn_rn_diff[parnn_rn_diff.f1_diff < 0]))\n",
    "print(\"Performance Remained Same  :: \", len(parnn_rn_diff[parnn_rn_diff.f1_diff == 0]))"
   ]
  },
  {
   "cell_type": "code",
   "execution_count": null,
   "id": "b8ffff81",
   "metadata": {},
   "outputs": [],
   "source": [
    "rni = set(list(parnn_rn_diff.relation[parnn_rn_diff.f1_diff > 0])).intersection(\n",
    "        set(list(cgcn_rn_diff.relation[cgcn_rn_diff.f1_diff > 0])))\n",
    "print(\"Performance Improved  :: \", rni)\n",
    "rnd = set(list(parnn_rn_diff.relation[parnn_rn_diff.f1_diff < 0])).intersection(\n",
    "        set(list(cgcn_rn_diff.relation[cgcn_rn_diff.f1_diff < 0])))\n",
    "print(\"Performance Declined  :: \", rnd)\n",
    "rns = set(list(parnn_rn_diff.relation[parnn_rn_diff.f1_diff == 0])).intersection(\n",
    "        set(list(cgcn_rn_diff.relation[cgcn_rn_diff.f1_diff == 0])))\n",
    "print(\"Performance Remained Same  :: \", rns)"
   ]
  },
  {
   "cell_type": "code",
   "execution_count": null,
   "id": "45df141a",
   "metadata": {},
   "outputs": [],
   "source": [
    "list(cgcn_rn_diff.relation[cgcn_rn_diff.f1_diff > 0])"
   ]
  },
  {
   "cell_type": "code",
   "execution_count": null,
   "id": "d0f83c8c",
   "metadata": {},
   "outputs": [],
   "source": [
    "print(\"Performance Improved  :: \", len(set(list(parnn_rn_diff.relation[parnn_rn_diff.f1_diff > 0])).intersection(\n",
    "        set(list(cgcn_rn_diff.relation[cgcn_rn_diff.f1_diff > 0])))))\n",
    "print(\"Performance Declined  :: \", len(set(list(parnn_rn_diff.relation[parnn_rn_diff.f1_diff < 0])).intersection(\n",
    "        set(list(cgcn_rn_diff.relation[cgcn_rn_diff.f1_diff < 0])))))\n",
    "print(\"Performance Remained Same  :: \", len(set(list(parnn_rn_diff.relation[parnn_rn_diff.f1_diff == 0])).intersection(\n",
    "        set(list(cgcn_rn_diff.relation[cgcn_rn_diff.f1_diff == 0])))))"
   ]
  },
  {
   "cell_type": "markdown",
   "id": "0836fd74",
   "metadata": {},
   "source": [
    "### Reannotating Noisy Negative and Positive Instances"
   ]
  },
  {
   "cell_type": "code",
   "execution_count": null,
   "id": "5733d768",
   "metadata": {},
   "outputs": [],
   "source": [
    "cgcn_rnp = pd.read_csv('cgcn/results/prediction_stats/cgcn-replace-posneg.csv')\n",
    "\n",
    "cgcn_rnp_diff = pd.DataFrame({'relation':cgcn.relation,\n",
    "                              'f1_diff':cgcn_rnp.f1 - cgcn.f1})\n",
    "# cgcn_rnp_diff"
   ]
  },
  {
   "cell_type": "code",
   "execution_count": null,
   "id": "015ebde2",
   "metadata": {},
   "outputs": [],
   "source": [
    "print(\"Performance Improved  :: \", len(cgcn_rnp_diff[cgcn_rnp_diff.f1_diff > 0]))\n",
    "print(\"Performance Declined  :: \", len(cgcn_rnp_diff[cgcn_rnp_diff.f1_diff < 0]))\n",
    "print(\"Performance Remained Same  :: \", len(cgcn_rnp_diff[cgcn_rnp_diff.f1_diff == 0]))"
   ]
  },
  {
   "cell_type": "code",
   "execution_count": null,
   "id": "8aea487b",
   "metadata": {},
   "outputs": [],
   "source": [
    "parnn_rnp = pd.read_csv('tacred/results/prediction_stats/parnn-replace-posneg.csv')\n",
    "\n",
    "parnn_rnp_diff = pd.DataFrame({'relation':parnn.relation,\n",
    "                              'f1_diff':parnn_rnp.f1 - parnn.f1})\n",
    "# parnn_rnp_diff"
   ]
  },
  {
   "cell_type": "code",
   "execution_count": null,
   "id": "ab279c74",
   "metadata": {},
   "outputs": [],
   "source": [
    "print(\"Performance Improved  :: \", len(parnn_rnp_diff[parnn_rnp_diff.f1_diff > 0]))\n",
    "print(\"Performance Declined  :: \", len(parnn_rnp_diff[parnn_rnp_diff.f1_diff < 0]))\n",
    "print(\"Performance Remained Same  :: \", len(parnn_rnp_diff[parnn_rnp_diff.f1_diff == 0]))"
   ]
  },
  {
   "cell_type": "code",
   "execution_count": null,
   "id": "e9283e5d",
   "metadata": {},
   "outputs": [],
   "source": [
    "rnpi = set(list(parnn_rnp_diff.relation[parnn_rnp_diff.f1_diff > 0])).intersection(\n",
    "        set(list(cgcn_rnp_diff.relation[cgcn_rnp_diff.f1_diff > 0])))\n",
    "print(\"Performance Improved  :: \", rnpi)\n",
    "rnpd = set(list(parnn_rnp_diff.relation[parnn_rnp_diff.f1_diff < 0])).intersection(\n",
    "        set(list(cgcn_rnp_diff.relation[cgcn_rnp_diff.f1_diff < 0])))\n",
    "print(\"Performance Declined  :: \", rnpd)\n",
    "rnps = set(list(parnn_rnp_diff.relation[parnn_rnp_diff.f1_diff == 0])).intersection(\n",
    "        set(list(cgcn_rnp_diff.relation[cgcn_rnp_diff.f1_diff == 0])))\n",
    "print(\"Performance Remained Same  :: \", rnps)"
   ]
  },
  {
   "cell_type": "code",
   "execution_count": null,
   "id": "89427412",
   "metadata": {},
   "outputs": [],
   "source": [
    "print(\"Performance Improved  :: \", len(set(list(parnn_rnp_diff.relation[parnn_rnp_diff.f1_diff > 0])).intersection(\n",
    "        set(list(cgcn_rnp_diff.relation[cgcn_rnp_diff.f1_diff > 0])))))\n",
    "print(\"Performance Declined  :: \", len(set(list(parnn_rnp_diff.relation[parnn_rnp_diff.f1_diff < 0])).intersection(\n",
    "        set(list(cgcn_rnp_diff.relation[cgcn_rnp_diff.f1_diff < 0])))))\n",
    "print(\"Performance Remained Same  :: \", len(set(list(parnn_rnp_diff.relation[parnn_rnp_diff.f1_diff == 0])).intersection(\n",
    "        set(list(cgcn_rnp_diff.relation[cgcn_rnp_diff.f1_diff == 0])))))"
   ]
  },
  {
   "cell_type": "code",
   "execution_count": null,
   "id": "d114269e",
   "metadata": {},
   "outputs": [],
   "source": [
    "imp = list(eni.intersection(enpi).intersection(rni).intersection(rnpi))\n",
    "imp"
   ]
  },
  {
   "cell_type": "code",
   "execution_count": null,
   "id": "7f0b0051",
   "metadata": {},
   "outputs": [],
   "source": [
    "dec = list(end.intersection(enpd).intersection(rnd).intersection(rnpd))\n",
    "dec"
   ]
  },
  {
   "cell_type": "code",
   "execution_count": null,
   "id": "7c34f76b",
   "metadata": {},
   "outputs": [],
   "source": [
    "sam = list(ens.intersection(enps).intersection(rns).intersection(rnps))\n",
    "sam"
   ]
  },
  {
   "cell_type": "code",
   "execution_count": null,
   "id": "5be9b9e3",
   "metadata": {},
   "outputs": [],
   "source": [
    "len(list(rni.intersection(rnpi)))"
   ]
  },
  {
   "cell_type": "markdown",
   "id": "a0ae7fe4",
   "metadata": {},
   "source": [
    "## Robustness Analysis"
   ]
  },
  {
   "cell_type": "markdown",
   "id": "fece860a",
   "metadata": {},
   "source": [
    "### Eliminating Noisy Negative Instances"
   ]
  },
  {
   "cell_type": "code",
   "execution_count": null,
   "id": "4e82eca5",
   "metadata": {},
   "outputs": [],
   "source": [
    "pnoisy = pickle.load(open('./tacred/Pallneg_noisy_test_ids.pkl', 'rb'))\n",
    "pnoisy = pnoisy['test']\n",
    "print(\"Number of noisy instances  ::  {}\".format(len(pnoisy)))\n",
    "\n",
    "p23noisy = pickle.load(open('./tacred/P23allneg_noisy_test_ids.pkl', 'rb'))\n",
    "p23noisy = p23noisy['test']\n",
    "print(\"Number of noisy instances  ::  {}\".format(len(p23noisy)))\n",
    "\n",
    "p78noisy = pickle.load(open('./tacred/P78allneg_noisy_test_ids.pkl', 'rb'))\n",
    "p78noisy = p78noisy['test']\n",
    "print(\"Number of noisy instances  ::  {}\".format(len(p78noisy)))\n",
    "\n",
    "p61noisy = pickle.load(open('./tacred/P61allneg_noisy_test_ids.pkl', 'rb'))\n",
    "p61noisy = p61noisy['test']\n",
    "print(\"Number of noisy instances  ::  {}\".format(len(p61noisy)))\n",
    "\n",
    "p12noisy = pickle.load(open('./tacred/P12allneg_noisy_test_ids.pkl', 'rb'))\n",
    "p12noisy = p12noisy['test']\n",
    "print(\"Number of noisy instances  ::  {}\".format(len(p12noisy)))"
   ]
  },
  {
   "cell_type": "code",
   "execution_count": null,
   "id": "d48d3f47",
   "metadata": {},
   "outputs": [],
   "source": [
    "len(set(pnoisy).intersection(set(p23noisy)))"
   ]
  },
  {
   "cell_type": "code",
   "execution_count": null,
   "id": "9e130740",
   "metadata": {},
   "outputs": [],
   "source": [
    "len(set(pnoisy).intersection(set(p78noisy)))"
   ]
  },
  {
   "cell_type": "code",
   "execution_count": null,
   "id": "6f1f18aa",
   "metadata": {},
   "outputs": [],
   "source": [
    "len(set(pnoisy).intersection(set(p61noisy)))"
   ]
  },
  {
   "cell_type": "code",
   "execution_count": null,
   "id": "229ee84a",
   "metadata": {},
   "outputs": [],
   "source": [
    "len(set(pnoisy).intersection(set(p12noisy)))"
   ]
  },
  {
   "cell_type": "code",
   "execution_count": null,
   "id": "16bd99d2",
   "metadata": {},
   "outputs": [],
   "source": [
    "len(set(pnoisy).intersection(set(p23noisy)).intersection(set(p78noisy)).intersection(set(p61noisy)).intersection(set(p12noisy)))"
   ]
  },
  {
   "cell_type": "markdown",
   "id": "04c386a7",
   "metadata": {},
   "source": [
    "### Reannotating Noisy Negative Instances"
   ]
  },
  {
   "cell_type": "code",
   "execution_count": null,
   "id": "beefb48a",
   "metadata": {},
   "outputs": [],
   "source": [
    "pnoisy = pickle.load(open('./tacred/Pallneg_relabel_ids.pkl', 'rb'))\n",
    "pnoisy = pnoisy['test']\n",
    "print(\"Number of noisy instances  ::  {}\".format(len(pnoisy)))\n",
    "\n",
    "p23noisy = pickle.load(open('./tacred/P23allneg_relabel_test_ids.pkl', 'rb'))\n",
    "p23noisy = p23noisy['test']\n",
    "print(\"Number of noisy instances  ::  {}\".format(len(p23noisy)))\n",
    "\n",
    "p78noisy = pickle.load(open('./tacred/P78allneg_relabel_test_ids.pkl', 'rb'))\n",
    "p78noisy = p78noisy['test']\n",
    "print(\"Number of noisy instances  ::  {}\".format(len(p78noisy)))\n",
    "\n",
    "p61noisy = pickle.load(open('./tacred/P61allneg_relabel_test_ids.pkl', 'rb'))\n",
    "p61noisy = p61noisy['test']\n",
    "print(\"Number of noisy instances  ::  {}\".format(len(p61noisy)))\n",
    "\n",
    "p12noisy = pickle.load(open('./tacred/P12allneg_relabel_test_ids.pkl', 'rb'))\n",
    "p12noisy = p12noisy['test']\n",
    "print(\"Number of noisy instances  ::  {}\".format(len(p12noisy)))"
   ]
  },
  {
   "cell_type": "code",
   "execution_count": null,
   "id": "273e0ba7",
   "metadata": {},
   "outputs": [],
   "source": [
    "len(set(pnoisy.keys()).intersection(set(p23noisy.keys())))"
   ]
  },
  {
   "cell_type": "code",
   "execution_count": null,
   "id": "4e9aa907",
   "metadata": {},
   "outputs": [],
   "source": [
    "len(set(pnoisy.keys()).intersection(set(p78noisy.keys())))"
   ]
  },
  {
   "cell_type": "code",
   "execution_count": null,
   "id": "e508e856",
   "metadata": {},
   "outputs": [],
   "source": [
    "len(set(pnoisy.keys()).intersection(set(p61noisy.keys())))"
   ]
  },
  {
   "cell_type": "code",
   "execution_count": null,
   "id": "c59de490",
   "metadata": {},
   "outputs": [],
   "source": [
    "len(set(pnoisy.keys()).intersection(set(p12noisy.keys())))"
   ]
  },
  {
   "cell_type": "code",
   "execution_count": null,
   "id": "13339bce",
   "metadata": {},
   "outputs": [],
   "source": [
    "len(set(pnoisy.keys()).intersection(set(p78noisy.keys())).intersection(set(p61noisy.keys())).intersection(set(p23noisy.keys())).intersection(set(p12noisy.keys())))"
   ]
  },
  {
   "cell_type": "code",
   "execution_count": null,
   "id": "d1dd9eb2",
   "metadata": {},
   "outputs": [],
   "source": []
  },
  {
   "cell_type": "code",
   "execution_count": null,
   "id": "f3be8c5b",
   "metadata": {},
   "outputs": [],
   "source": []
  },
  {
   "cell_type": "markdown",
   "id": "220c3ab5",
   "metadata": {},
   "source": [
    "## Finding common instance with hierarchy-based filtering"
   ]
  },
  {
   "cell_type": "markdown",
   "id": "3e982831",
   "metadata": {},
   "source": [
    "### Elimination Instances"
   ]
  },
  {
   "cell_type": "code",
   "execution_count": 32,
   "id": "98c415b6",
   "metadata": {},
   "outputs": [
    {
     "data": {
      "text/plain": [
       "dict_keys(['train', 'dev', 'test'])"
      ]
     },
     "execution_count": 32,
     "metadata": {},
     "output_type": "execute_result"
    }
   ],
   "source": [
    "hierarchy_filtered.keys()"
   ]
  },
  {
   "cell_type": "code",
   "execution_count": 37,
   "id": "1f6b9c47",
   "metadata": {},
   "outputs": [
    {
     "data": {
      "text/plain": [
       "dict_keys(['train', 'dev', 'test'])"
      ]
     },
     "execution_count": 37,
     "metadata": {},
     "output_type": "execute_result"
    }
   ],
   "source": [
    "parnn = pickle.load(open('./tacred/Pnegpos_noisy_ids.pkl', 'rb'))\n",
    "parnn_test = pickle.load(open('./tacred/Pnegpos_noisy_test_ids.pkl', 'rb'))\n",
    "parnn['test'] = parnn_test['test']\n",
    "parnn.keys()"
   ]
  },
  {
   "cell_type": "code",
   "execution_count": 41,
   "id": "a40d6987",
   "metadata": {},
   "outputs": [
    {
     "data": {
      "text/plain": [
       "dict_keys(['train', 'dev', 'test'])"
      ]
     },
     "execution_count": 41,
     "metadata": {},
     "output_type": "execute_result"
    }
   ],
   "source": [
    "cgcn = pickle.load(open('./cgcn/negpos_noisy_ids.pkl', 'rb'))\n",
    "cgcn_test = pickle.load(open('./cgcn/negpos_noisy_test_ids.pkl', 'rb'))\n",
    "cgcn['test'] = cgcn_test['test']\n",
    "cgcn.keys()"
   ]
  },
  {
   "cell_type": "code",
   "execution_count": 46,
   "id": "8737c800",
   "metadata": {},
   "outputs": [
    {
     "data": {
      "text/plain": [
       "dict_keys(['train', 'dev', 'test'])"
      ]
     },
     "execution_count": 46,
     "metadata": {},
     "output_type": "execute_result"
    }
   ],
   "source": [
    "noisy = {\n",
    "    key : set(parnn[key]).intersection(cgcn[key]) for key in hierarchy_filtered.keys()\n",
    "}\n",
    "noisy.keys()"
   ]
  },
  {
   "cell_type": "code",
   "execution_count": 47,
   "id": "9a577141",
   "metadata": {},
   "outputs": [
    {
     "name": "stdout",
     "output_type": "stream",
     "text": [
      "train 0 117 797\n",
      "dev 8 35 892\n",
      "test 2 12 520\n"
     ]
    }
   ],
   "source": [
    "for key, val in hierarchy_filtered.items():\n",
    "    common = [v for v in val if v in noisy[key]]\n",
    "    print(key, len(common), len(val), len(noisy[key]))"
   ]
  },
  {
   "cell_type": "markdown",
   "id": "1a25292b",
   "metadata": {},
   "source": [
    "### Reannotation Instances"
   ]
  },
  {
   "cell_type": "code",
   "execution_count": 48,
   "id": "9fa44d71",
   "metadata": {},
   "outputs": [
    {
     "data": {
      "text/plain": [
       "dict_keys(['train', 'dev', 'test'])"
      ]
     },
     "execution_count": 48,
     "metadata": {},
     "output_type": "execute_result"
    }
   ],
   "source": [
    "parnn = pickle.load(open('./tacred/Pnegpos_relabel_ids.pkl', 'rb'))\n",
    "parnn.keys()"
   ]
  },
  {
   "cell_type": "code",
   "execution_count": 49,
   "id": "1dfb242e",
   "metadata": {},
   "outputs": [
    {
     "data": {
      "text/plain": [
       "dict_keys(['train', 'dev', 'test'])"
      ]
     },
     "execution_count": 49,
     "metadata": {},
     "output_type": "execute_result"
    }
   ],
   "source": [
    "cgcn = pickle.load(open('./cgcn/negpos_relabel_ids.pkl', 'rb'))\n",
    "cgcn.keys()"
   ]
  },
  {
   "cell_type": "code",
   "execution_count": 50,
   "id": "03b1a805",
   "metadata": {},
   "outputs": [
    {
     "data": {
      "text/plain": [
       "dict_keys(['train', 'dev', 'test'])"
      ]
     },
     "execution_count": 50,
     "metadata": {},
     "output_type": "execute_result"
    }
   ],
   "source": [
    "noisy = {\n",
    "    key : set(parnn[key]).intersection(cgcn[key]) for key in hierarchy_filtered.keys()\n",
    "}\n",
    "noisy.keys()"
   ]
  },
  {
   "cell_type": "code",
   "execution_count": 51,
   "id": "87573386",
   "metadata": {},
   "outputs": [
    {
     "name": "stdout",
     "output_type": "stream",
     "text": [
      "train 7 117 1166\n",
      "dev 8 35 703\n",
      "test 2 12 408\n"
     ]
    }
   ],
   "source": [
    "for key, val in hierarchy_filtered.items():\n",
    "    common = [v for v in val if v in noisy[key]]\n",
    "    print(key, len(common), len(val), len(noisy[key]))"
   ]
  },
  {
   "cell_type": "code",
   "execution_count": null,
   "id": "24427337",
   "metadata": {},
   "outputs": [],
   "source": []
  }
 ],
 "metadata": {
  "kernelspec": {
   "display_name": "Python 3",
   "language": "python",
   "name": "python3"
  },
  "language_info": {
   "codemirror_mode": {
    "name": "ipython",
    "version": 3
   },
   "file_extension": ".py",
   "mimetype": "text/x-python",
   "name": "python",
   "nbconvert_exporter": "python",
   "pygments_lexer": "ipython3",
   "version": "3.6.9"
  }
 },
 "nbformat": 4,
 "nbformat_minor": 5
}
